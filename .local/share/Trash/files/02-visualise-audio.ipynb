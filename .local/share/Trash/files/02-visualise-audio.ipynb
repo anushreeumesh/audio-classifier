{
 "cells": [
  {
   "cell_type": "markdown",
   "metadata": {},
   "source": [
    "# Convert audio files to melspectrograms to be used as input images to the image classification algorithm"
   ]
  },
  {
   "cell_type": "markdown",
   "metadata": {},
   "source": [
    "### This process will take the 3 second audio segments and create a spectral visual representation of them"
   ]
  },
  {
   "cell_type": "markdown",
   "metadata": {},
   "source": [
    "## Step 1: Install dependencies "
   ]
  },
  {
   "cell_type": "code",
   "execution_count": null,
   "metadata": {
    "scrolled": true
   },
   "outputs": [
    {
     "name": "stdout",
     "output_type": "stream",
     "text": [
      "Collecting package metadata (current_repodata.json): done\n",
      "Solving environment: failed with initial frozen solve. Retrying with flexible solve.\n",
      "Solving environment: failed with repodata from current_repodata.json, will retry with next repodata source.\n",
      "Collecting package metadata (repodata.json): | "
     ]
    }
   ],
   "source": [
    "!conda install -c conda-forge librosa -y"
   ]
  },
  {
   "cell_type": "markdown",
   "metadata": {},
   "source": [
    "#### If you have trouble installing librosa using the above command, try the following alternative:"
   ]
  },
  {
   "cell_type": "markdown",
   "metadata": {},
   "source": [
    "!conda install -c conda-forge librosa -y\n",
    "!conda install -c conda-forge libsndfile -y\n",
    "!pip install soundfile"
   ]
  },
  {
   "cell_type": "code",
   "execution_count": null,
   "metadata": {
    "scrolled": true
   },
   "outputs": [],
   "source": [
    "import os \n",
    "import matplotlib.pyplot as plt\n",
    "import librosa\n",
    "import librosa.display\n",
    "import warnings\n",
    "import numpy as np"
   ]
  },
  {
   "cell_type": "markdown",
   "metadata": {},
   "source": [
    "#### Suppress FutureWarnings because the current version of librosa throws many of these"
   ]
  },
  {
   "cell_type": "code",
   "execution_count": 61,
   "metadata": {},
   "outputs": [],
   "source": [
    "warnings.simplefilter(action='ignore', category=FutureWarning)"
   ]
  },
  {
   "cell_type": "markdown",
   "metadata": {},
   "source": [
    "### Step 2: These are our functions to create the spectogram and melspectograms \n",
    "\n",
    "For our methodology we have chosen to use the melspectrogram method\n",
    "\n",
    "We have configured matplotlib to output each gram as 224 x 224 pixels"
   ]
  },
  {
   "cell_type": "code",
   "execution_count": 76,
   "metadata": {},
   "outputs": [],
   "source": [
    "def make_spgram(file_path, class_name): \n",
    "    base = os.path.basename(file_path)\n",
    "    #need subfolder too \n",
    "    input_file = os.path.splitext(base)[0]\n",
    "\n",
    "    clip, sample_rate = librosa.load(file_path, sr=None)\n",
    "    n_fft = 1024 # frame length \n",
    "    \n",
    "    hop_length = 512\n",
    "    stft = librosa.stft(clip, n_fft=n_fft, hop_length=hop_length)\n",
    "    stft_magnitude, stft_phase = librosa.magphase(stft)\n",
    "    stft_magnitude_db = librosa.amplitude_to_db(stft_magnitude, ref=np.max)\n",
    "\n",
    "    plt.figure(figsize=(4, 4))\n",
    "\n",
    "    librosa.display.specshow(stft_magnitude_db, x_axis=None, y_axis=None, \n",
    "                             sr=sample_rate, hop_length=hop_length)\n",
    "\n",
    "    plt.savefig('../data/spectrogram/'+class_name+'/'+input_file+'.png',bbox_inches='tight',pad_inches=0)\n",
    "    plt.clf()"
   ]
  },
  {
   "cell_type": "code",
   "execution_count": 74,
   "metadata": {},
   "outputs": [],
   "source": [
    "def make_melspgram(file_path, species, data_split):\n",
    "    n_mels = 64\n",
    "    base = os.path.basename(file_path)\n",
    "    input_file = os.path.splitext(base)[0]\n",
    "    clip, sample_rate = librosa.load(file_path, sr=None)\n",
    "    n_fft = 1024 # frame length \n",
    "    fmin = 0            \n",
    "    fmax = 22050 # sample_rate/2\n",
    "    hop_length = 512\n",
    "    mel_spec = librosa.feature.melspectrogram(clip, n_fft=n_fft, hop_length=hop_length,\n",
    "                                              n_mels=n_mels, sr=sample_rate, power=1.0,\n",
    "                                              fmin=fmin, fmax=fmax)\n",
    "    mel_spec_db = librosa.amplitude_to_db(mel_spec, ref=np.max)\n",
    "    plt.figure(figsize=(4, 4))\n",
    "    librosa.display.specshow(mel_spec_db, x_axis=None,  y_axis=None, \n",
    "                             sr=sample_rate, hop_length=hop_length, \n",
    "                             fmin=fmin, fmax=fmax)    \n",
    "    \n",
    "    plt.savefig('../data/mel-spectrogram/'+data_split+'/'+species+ '/'+input_file+'.png',bbox_inches='tight',pad_inches=0)\n",
    "    plt.show()\n",
    "    plt.close()"
   ]
  },
  {
   "cell_type": "markdown",
   "metadata": {},
   "source": [
    "### Step 3: apply it to the images, by going through the folders and sub-folders "
   ]
  },
  {
   "cell_type": "code",
   "execution_count": null,
   "metadata": {},
   "outputs": [],
   "source": [
    "#if don't get im2rec working with the splitting do this: \n",
    "bird_species = ['eastern-whipbird', 'kookaburra', 'willie-wagtail']\n",
    "rootdir = '../data/clips'\n",
    "\n",
    "count = 0\n",
    "for i in bird_species: \n",
    "    input_dir = rootdir+i\n",
    "    if not os.path.isdir('../data/mel-spectrogram/validate'):\n",
    "        os.mkdir('../data/mel-spectrogram/validate')\n",
    "    if not os.path.isdir('../data/mel-spectrogram/train'):\n",
    "        os.mkdir('../data/mel-spectrogram/train')\n",
    "\n",
    "    for subdir, dirs, files in os.walk(input_dir):\n",
    "        for file in files:\n",
    "            file_path = os.path.join(subdir, file)\n",
    "            count += 1\n",
    "            if count%5 == 0:\n",
    "                if not os.path.isdir('../data/mel-spectrogram/validate'):\n",
    "                    os.mkdir('../data/mel-spectrogram/validate')\n",
    "                make_melspgram(file_path, i, 'validate')\n",
    "            elif count%5 != 0:\n",
    "                if not os.path.isdir('../data/mel-spectrogram/train'):\n",
    "                    os.mkdir('../data/mel-spectrogram/train')\n",
    "                make_melspgram(file_path, i, 'train')"
   ]
  },
  {
   "cell_type": "markdown",
   "metadata": {},
   "source": [
    "## Write to S3 "
   ]
  },
  {
   "cell_type": "code",
   "execution_count": null,
   "metadata": {},
   "outputs": [],
   "source": [
    "import boto3\n",
    "import os\n",
    "s3r = boto3.resource('s3')\n",
    "bucket = s3r.Bucket('audio-classifier-data')\n",
    "\n",
    "path = '../Data/mel-spectrogram/train'\n",
    "for subdir, dirs, files in os.walk(path):\n",
    "    for file in files:\n",
    "        full_path = os.path.join(subdir, file)\n",
    "        #with the moving of the data, needed to chagne the path for s3\n",
    "        image_path = '/'.join(full_path.split('/')[2:]))\n",
    "        with open(full_path, 'rb') as data:\n",
    "            bucket.put_object(Key=image_path, Body=data)"
   ]
  },
  {
   "cell_type": "code",
   "execution_count": 82,
   "metadata": {},
   "outputs": [
    {
     "name": "stdout",
     "output_type": "stream",
     "text": [
      "mel-spectrogram/validate/bird-audio-validate.lst\n",
      "mel-spectrogram/validate/eastern-whipbird/b1a5da01-8a74-4abb-8cce-c68c31dc0a60_stereo_10000_13000.png\n",
      "mel-spectrogram/validate/eastern-whipbird/aad78fc7-f674-4d44-af53-d3d25083420e_3500_6500-checkpoint.png\n",
      "mel-spectrogram/validate/eastern-whipbird/b1a5da01-8a74-4abb-8cce-c68c31dc0a60_stereo_14000_17000.png\n",
      "mel-spectrogram/validate/eastern-whipbird/bf8d74b6-9763-4978-af5e-dda940d8f5f1_3000_6000-checkpoint.png\n",
      "mel-spectrogram/validate/eastern-whipbird/b1a5da01-8a74-4abb-8cce-c68c31dc0a60_stereo_6500_9500.png\n",
      "mel-spectrogram/validate/eastern-whipbird/b1a5da01-8a74-4abb-8cce-c68c31dc0a60_stereo_3000_6000.png\n",
      "mel-spectrogram/validate/eastern-whipbird/aad78fc7-f674-4d44-af53-d3d25083420e_1500_4500-checkpoint.png\n",
      "mel-spectrogram/validate/eastern-whipbird/e409f4db-c60c-4d94-afbe-e7c3ba8db79c_stereo_1500_4500.png\n",
      "mel-spectrogram/validate/eastern-whipbird/e409f4db-c60c-4d94-afbe-e7c3ba8db79c_stereo_1000_4000.png\n",
      "mel-spectrogram/validate/eastern-whipbird/b1a5da01-8a74-4abb-8cce-c68c31dc0a60_stereo_5500_8500.png\n",
      "mel-spectrogram/validate/eastern-whipbird/e409f4db-c60c-4d94-afbe-e7c3ba8db79c_stereo_500_3500.png\n",
      "mel-spectrogram/validate/eastern-whipbird/aad78fc7-f674-4d44-af53-d3d25083420e_500_3500-checkpoint.png\n",
      "mel-spectrogram/validate/eastern-whipbird/b1a5da01-8a74-4abb-8cce-c68c31dc0a60_stereo_15000_18000.png\n",
      "mel-spectrogram/validate/eastern-whipbird/dc6e3770-220e-43fe-9e84-dba5aa9b9770_3000_6000.png\n",
      "mel-spectrogram/validate/eastern-whipbird/dc6e3770-220e-43fe-9e84-dba5aa9b9770_11500_14500.png\n",
      "mel-spectrogram/validate/eastern-whipbird/1d4bed34-4f47-4f8f-903f-ee1f88f28efa_500_3500-checkpoint.png\n",
      "mel-spectrogram/validate/eastern-whipbird/bf8d74b6-9763-4978-af5e-dda940d8f5f1_4000_7000.png\n",
      "mel-spectrogram/validate/eastern-whipbird/b551a17d-28d5-4ee1-b5c1-19caa98ae514_4500_7500.png\n",
      "mel-spectrogram/validate/eastern-whipbird/bf8d74b6-9763-4978-af5e-dda940d8f5f1_0_3000.png\n",
      "mel-spectrogram/validate/eastern-whipbird/b551a17d-28d5-4ee1-b5c1-19caa98ae514_3000_6000.png\n",
      "mel-spectrogram/validate/eastern-whipbird/6316ecca-4b96-4477-8da7-e764429fa389_1000_4000.png\n",
      "mel-spectrogram/validate/eastern-whipbird/aad78fc7-f674-4d44-af53-d3d25083420e_4500_7500.png\n",
      "mel-spectrogram/validate/eastern-whipbird/bf8d74b6-9763-4978-af5e-dda940d8f5f1_500_3500.png\n",
      "mel-spectrogram/validate/eastern-whipbird/1d4bed34-4f47-4f8f-903f-ee1f88f28efa_2000_5000.png\n",
      "mel-spectrogram/validate/eastern-whipbird/bf8d74b6-9763-4978-af5e-dda940d8f5f1_4500_7500.png\n",
      "mel-spectrogram/validate/eastern-whipbird/aad78fc7-f674-4d44-af53-d3d25083420e_1500_4500.png\n",
      "mel-spectrogram/validate/eastern-whipbird/dc6e3770-220e-43fe-9e84-dba5aa9b9770_4500_7500-checkpoint.png\n",
      "mel-spectrogram/validate/eastern-whipbird/bf8d74b6-9763-4978-af5e-dda940d8f5f1_3000_6000.png\n",
      "mel-spectrogram/validate/eastern-whipbird/1d4bed34-4f47-4f8f-903f-ee1f88f28efa_0_3000.png\n",
      "mel-spectrogram/validate/eastern-whipbird/.ipynb_checkpoints/1d4bed34-4f47-4f8f-903f-ee1f88f28efa_2000_5000-checkpoint.png\n",
      "mel-spectrogram/validate/eastern-whipbird/.ipynb_checkpoints/1d4bed34-4f47-4f8f-903f-ee1f88f28efa_0_3000-checkpoint.png\n",
      "mel-spectrogram/validate/eastern-whipbird/.ipynb_checkpoints/6316ecca-4b96-4477-8da7-e764429fa389_1000_4000-checkpoint.png\n",
      "mel-spectrogram/validate/eastern-whipbird/.ipynb_checkpoints/b1a5da01-8a74-4abb-8cce-c68c31dc0a60_stereo_10000_13000-checkpoint.png\n",
      "mel-spectrogram/validate/eastern-whipbird/.ipynb_checkpoints/1d4bed34-4f47-4f8f-903f-ee1f88f28efa_500_3500-checkpoint-checkpoint.png\n",
      "mel-spectrogram/validate/eastern-whipbird/.ipynb_checkpoints/aad78fc7-f674-4d44-af53-d3d25083420e_500_3500-checkpoint-checkpoint.png\n",
      "mel-spectrogram/validate/willie-wagtail/efde913a-b957-4b69-8d68-8735f5131c78_stereo_12000_15000.png\n",
      "mel-spectrogram/validate/willie-wagtail/eb3e101c-4f12-4057-880d-dad68da259a5_stereo_3500_6500.png\n",
      "mel-spectrogram/validate/willie-wagtail/72fcdd4c-29f0-41f9-a32a-6f30f4a4bbcc_stereo_13500_16500.png\n",
      "mel-spectrogram/validate/willie-wagtail/e1207b26-da74-4c54-bc3f-2ee021d33184_stereo_5000_8000.png\n",
      "mel-spectrogram/validate/willie-wagtail/abab3331-7e85-460d-8ffa-77b771b40dc8_stereo_8000_11000.png\n",
      "mel-spectrogram/validate/willie-wagtail/72fcdd4c-29f0-41f9-a32a-6f30f4a4bbcc_stereo_1000_4000.png\n",
      "mel-spectrogram/validate/willie-wagtail/af674823-bb94-461f-8a5b-1431cd1b992a_stereo_34500_37500.png\n",
      "mel-spectrogram/validate/willie-wagtail/af674823-bb94-461f-8a5b-1431cd1b992a_stereo_25500_28500.png\n",
      "mel-spectrogram/validate/willie-wagtail/eb3e101c-4f12-4057-880d-dad68da259a5_stereo_0_3000.png\n",
      "mel-spectrogram/validate/willie-wagtail/8172248b-c4fd-42f7-ba99-08e0b4bbdba6_stereo_12500_15500.png\n",
      "mel-spectrogram/validate/willie-wagtail/7ecd1d43-b55d-4299-811d-dc029c02617d_stereo_8500_11500.png\n",
      "mel-spectrogram/validate/willie-wagtail/ca6cafb4-39f5-4a3c-8eec-2a27dd4f334f_stereo_12500_15500.png\n",
      "mel-spectrogram/validate/willie-wagtail/af674823-bb94-461f-8a5b-1431cd1b992a_stereo_0_3000.png\n",
      "mel-spectrogram/validate/willie-wagtail/efde913a-b957-4b69-8d68-8735f5131c78_stereo_11500_14500.png\n",
      "mel-spectrogram/validate/willie-wagtail/8b8966e8-160c-4368-8fbc-8de7995437bb_stereo_4000_7000.png\n",
      "mel-spectrogram/validate/willie-wagtail/72fcdd4c-29f0-41f9-a32a-6f30f4a4bbcc_stereo_23000_26000.png\n",
      "mel-spectrogram/validate/willie-wagtail/af674823-bb94-461f-8a5b-1431cd1b992a_stereo_3500_6500.png\n",
      "mel-spectrogram/validate/willie-wagtail/ca6cafb4-39f5-4a3c-8eec-2a27dd4f334f_stereo_3500_6500.png\n",
      "mel-spectrogram/validate/willie-wagtail/efde913a-b957-4b69-8d68-8735f5131c78_stereo_500_3500.png\n",
      "mel-spectrogram/validate/willie-wagtail/ca6cafb4-39f5-4a3c-8eec-2a27dd4f334f_stereo_10500_13500.png\n",
      "mel-spectrogram/validate/willie-wagtail/72fcdd4c-29f0-41f9-a32a-6f30f4a4bbcc_stereo_15500_18500.png\n",
      "mel-spectrogram/validate/willie-wagtail/eb3e101c-4f12-4057-880d-dad68da259a5_stereo_11000_14000.png\n",
      "mel-spectrogram/validate/willie-wagtail/af674823-bb94-461f-8a5b-1431cd1b992a_stereo_33000_36000.png\n",
      "mel-spectrogram/validate/willie-wagtail/eb3e101c-4f12-4057-880d-dad68da259a5_stereo_14500_17500.png\n",
      "mel-spectrogram/validate/willie-wagtail/af674823-bb94-461f-8a5b-1431cd1b992a_stereo_1500_4500.png\n",
      "mel-spectrogram/validate/willie-wagtail/eb3e101c-4f12-4057-880d-dad68da259a5_stereo_23500_26500.png\n",
      "mel-spectrogram/validate/willie-wagtail/72fcdd4c-29f0-41f9-a32a-6f30f4a4bbcc_stereo_12000_15000.png\n",
      "mel-spectrogram/validate/willie-wagtail/af674823-bb94-461f-8a5b-1431cd1b992a_stereo_6000_9000.png\n",
      "mel-spectrogram/validate/willie-wagtail/72fcdd4c-29f0-41f9-a32a-6f30f4a4bbcc_stereo_46500_49500.png\n",
      "mel-spectrogram/validate/willie-wagtail/eb3e101c-4f12-4057-880d-dad68da259a5_stereo_60000_63000.png\n",
      "mel-spectrogram/validate/willie-wagtail/eb3e101c-4f12-4057-880d-dad68da259a5_stereo_24000_27000.png\n",
      "mel-spectrogram/validate/willie-wagtail/af674823-bb94-461f-8a5b-1431cd1b992a_stereo_23500_26500.png\n",
      "mel-spectrogram/validate/willie-wagtail/eb3e101c-4f12-4057-880d-dad68da259a5_stereo_33000_36000.png\n",
      "mel-spectrogram/validate/willie-wagtail/8172248b-c4fd-42f7-ba99-08e0b4bbdba6_stereo_11000_14000.png\n",
      "mel-spectrogram/validate/willie-wagtail/72fcdd4c-29f0-41f9-a32a-6f30f4a4bbcc_stereo_61000_64000.png\n",
      "mel-spectrogram/validate/willie-wagtail/ca6cafb4-39f5-4a3c-8eec-2a27dd4f334f_stereo_5500_8500.png\n",
      "mel-spectrogram/validate/willie-wagtail/af674823-bb94-461f-8a5b-1431cd1b992a_stereo_20000_23000.png\n",
      "mel-spectrogram/validate/willie-wagtail/eb3e101c-4f12-4057-880d-dad68da259a5_stereo_45500_48500.png\n",
      "mel-spectrogram/validate/willie-wagtail/72fcdd4c-29f0-41f9-a32a-6f30f4a4bbcc_stereo_55000_58000.png\n",
      "mel-spectrogram/validate/willie-wagtail/eb3e101c-4f12-4057-880d-dad68da259a5_stereo_1000_4000.png\n",
      "mel-spectrogram/validate/willie-wagtail/af674823-bb94-461f-8a5b-1431cd1b992a_stereo_500_3500.png\n",
      "mel-spectrogram/validate/willie-wagtail/abab3331-7e85-460d-8ffa-77b771b40dc8_stereo_9000_12000.png\n",
      "mel-spectrogram/validate/willie-wagtail/eb3e101c-4f12-4057-880d-dad68da259a5_stereo_10000_13000.png\n",
      "mel-spectrogram/validate/willie-wagtail/af674823-bb94-461f-8a5b-1431cd1b992a_stereo_14000_17000.png\n",
      "mel-spectrogram/validate/willie-wagtail/eb3e101c-4f12-4057-880d-dad68da259a5_stereo_45000_48000.png\n",
      "mel-spectrogram/validate/willie-wagtail/72fcdd4c-29f0-41f9-a32a-6f30f4a4bbcc_stereo_5500_8500.png\n",
      "mel-spectrogram/validate/willie-wagtail/af674823-bb94-461f-8a5b-1431cd1b992a_stereo_26500_29500.png\n",
      "mel-spectrogram/validate/willie-wagtail/ca6cafb4-39f5-4a3c-8eec-2a27dd4f334f_stereo_13500_16500.png\n",
      "mel-spectrogram/validate/willie-wagtail/eb3e101c-4f12-4057-880d-dad68da259a5_stereo_23000_26000.png\n",
      "mel-spectrogram/validate/willie-wagtail/8b8966e8-160c-4368-8fbc-8de7995437bb_stereo_5000_8000.png\n",
      "mel-spectrogram/validate/willie-wagtail/eb3e101c-4f12-4057-880d-dad68da259a5_stereo_41000_44000.png\n",
      "mel-spectrogram/validate/willie-wagtail/ca6cafb4-39f5-4a3c-8eec-2a27dd4f334f_stereo_22500_25500.png\n",
      "mel-spectrogram/validate/willie-wagtail/af674823-bb94-461f-8a5b-1431cd1b992a_stereo_22500_25500.png\n",
      "mel-spectrogram/validate/willie-wagtail/eb3e101c-4f12-4057-880d-dad68da259a5_stereo_50000_53000.png\n",
      "mel-spectrogram/validate/willie-wagtail/ca6cafb4-39f5-4a3c-8eec-2a27dd4f334f_stereo_10000_13000.png\n",
      "mel-spectrogram/validate/willie-wagtail/72fcdd4c-29f0-41f9-a32a-6f30f4a4bbcc_stereo_10500_13500.png\n",
      "mel-spectrogram/validate/willie-wagtail/e1207b26-da74-4c54-bc3f-2ee021d33184_stereo_5500_8500.png\n",
      "mel-spectrogram/validate/willie-wagtail/af674823-bb94-461f-8a5b-1431cd1b992a_stereo_1000_4000.png\n",
      "mel-spectrogram/validate/willie-wagtail/eb3e101c-4f12-4057-880d-dad68da259a5_stereo_21000_24000.png\n",
      "mel-spectrogram/validate/willie-wagtail/72fcdd4c-29f0-41f9-a32a-6f30f4a4bbcc_stereo_25500_28500.png\n",
      "mel-spectrogram/validate/willie-wagtail/af674823-bb94-461f-8a5b-1431cd1b992a_stereo_11500_14500.png\n",
      "mel-spectrogram/validate/willie-wagtail/af674823-bb94-461f-8a5b-1431cd1b992a_stereo_34000_37000.png\n",
      "mel-spectrogram/validate/willie-wagtail/8172248b-c4fd-42f7-ba99-08e0b4bbdba6_stereo_16000_19000.png\n",
      "mel-spectrogram/validate/willie-wagtail/af674823-bb94-461f-8a5b-1431cd1b992a_stereo_20500_23500.png\n",
      "mel-spectrogram/validate/willie-wagtail/eb3e101c-4f12-4057-880d-dad68da259a5_stereo_15500_18500.png\n",
      "mel-spectrogram/validate/willie-wagtail/eb3e101c-4f12-4057-880d-dad68da259a5_stereo_6500_9500.png\n",
      "mel-spectrogram/validate/willie-wagtail/eb3e101c-4f12-4057-880d-dad68da259a5_stereo_24500_27500.png\n",
      "mel-spectrogram/validate/willie-wagtail/efde913a-b957-4b69-8d68-8735f5131c78_stereo_2000_5000.png\n",
      "mel-spectrogram/validate/willie-wagtail/72fcdd4c-29f0-41f9-a32a-6f30f4a4bbcc_stereo_65500_68500.png\n",
      "mel-spectrogram/validate/willie-wagtail/72fcdd4c-29f0-41f9-a32a-6f30f4a4bbcc_stereo_3500_6500.png\n",
      "mel-spectrogram/validate/willie-wagtail/8172248b-c4fd-42f7-ba99-08e0b4bbdba6_stereo_15500_18500.png\n",
      "mel-spectrogram/validate/willie-wagtail/eb3e101c-4f12-4057-880d-dad68da259a5_stereo_20500_23500.png\n",
      "mel-spectrogram/validate/willie-wagtail/ca6cafb4-39f5-4a3c-8eec-2a27dd4f334f_stereo_12000_15000.png\n",
      "mel-spectrogram/validate/willie-wagtail/7ecd1d43-b55d-4299-811d-dc029c02617d_stereo_8000_11000.png\n",
      "mel-spectrogram/validate/willie-wagtail/72fcdd4c-29f0-41f9-a32a-6f30f4a4bbcc_stereo_12500_15500.png\n",
      "mel-spectrogram/validate/willie-wagtail/ca6cafb4-39f5-4a3c-8eec-2a27dd4f334f_stereo_21000_24000.png\n",
      "mel-spectrogram/validate/willie-wagtail/72fcdd4c-29f0-41f9-a32a-6f30f4a4bbcc_stereo_21500_24500.png\n",
      "mel-spectrogram/validate/willie-wagtail/72fcdd4c-29f0-41f9-a32a-6f30f4a4bbcc_stereo_18500_21500.png\n",
      "mel-spectrogram/validate/willie-wagtail/7ecd1d43-b55d-4299-811d-dc029c02617d_stereo_500_3500.png\n",
      "mel-spectrogram/validate/willie-wagtail/72fcdd4c-29f0-41f9-a32a-6f30f4a4bbcc_stereo_59000_62000.png\n",
      "mel-spectrogram/validate/willie-wagtail/abab3331-7e85-460d-8ffa-77b771b40dc8_stereo_13000_16000.png\n",
      "mel-spectrogram/validate/willie-wagtail/8b8966e8-160c-4368-8fbc-8de7995437bb_stereo_8500_11500.png\n",
      "mel-spectrogram/validate/willie-wagtail/8b8966e8-160c-4368-8fbc-8de7995437bb_stereo_9000_12000.png\n",
      "mel-spectrogram/validate/willie-wagtail/ca6cafb4-39f5-4a3c-8eec-2a27dd4f334f_stereo_8500_11500.png\n",
      "mel-spectrogram/validate/willie-wagtail/af674823-bb94-461f-8a5b-1431cd1b992a_stereo_17500_20500.png\n",
      "mel-spectrogram/validate/willie-wagtail/7ecd1d43-b55d-4299-811d-dc029c02617d_stereo_4500_7500.png\n",
      "mel-spectrogram/validate/willie-wagtail/eb3e101c-4f12-4057-880d-dad68da259a5_stereo_57500_60500.png\n",
      "mel-spectrogram/validate/willie-wagtail/af674823-bb94-461f-8a5b-1431cd1b992a_stereo_38000_41000.png\n",
      "mel-spectrogram/validate/willie-wagtail/af674823-bb94-461f-8a5b-1431cd1b992a_stereo_47000_50000.png\n",
      "mel-spectrogram/validate/willie-wagtail/72fcdd4c-29f0-41f9-a32a-6f30f4a4bbcc_stereo_8000_11000.png\n",
      "mel-spectrogram/validate/willie-wagtail/eb3e101c-4f12-4057-880d-dad68da259a5_stereo_38000_41000.png\n",
      "mel-spectrogram/validate/willie-wagtail/eb3e101c-4f12-4057-880d-dad68da259a5_stereo_29000_32000.png\n",
      "mel-spectrogram/validate/willie-wagtail/72fcdd4c-29f0-41f9-a32a-6f30f4a4bbcc_stereo_57000_60000.png\n",
      "mel-spectrogram/validate/willie-wagtail/7ecd1d43-b55d-4299-811d-dc029c02617d_stereo_6500_9500.png\n",
      "mel-spectrogram/validate/willie-wagtail/8172248b-c4fd-42f7-ba99-08e0b4bbdba6_stereo_7000_10000.png\n",
      "mel-spectrogram/validate/willie-wagtail/abab3331-7e85-460d-8ffa-77b771b40dc8_stereo_500_3500.png\n",
      "mel-spectrogram/validate/willie-wagtail/af674823-bb94-461f-8a5b-1431cd1b992a_stereo_28000_31000.png\n",
      "mel-spectrogram/validate/willie-wagtail/72fcdd4c-29f0-41f9-a32a-6f30f4a4bbcc_stereo_12500_15500-checkpoint.png\n",
      "mel-spectrogram/validate/willie-wagtail/abab3331-7e85-460d-8ffa-77b771b40dc8_stereo_5000_8000.png\n",
      "mel-spectrogram/validate/willie-wagtail/eb3e101c-4f12-4057-880d-dad68da259a5_stereo_37000_40000.png\n",
      "mel-spectrogram/validate/willie-wagtail/72fcdd4c-29f0-41f9-a32a-6f30f4a4bbcc_stereo_59500_62500.png\n",
      "mel-spectrogram/validate/willie-wagtail/af674823-bb94-461f-8a5b-1431cd1b992a_stereo_18500_21500.png\n",
      "mel-spectrogram/validate/willie-wagtail/72fcdd4c-29f0-41f9-a32a-6f30f4a4bbcc_stereo_38000_41000.png\n",
      "mel-spectrogram/validate/willie-wagtail/abab3331-7e85-460d-8ffa-77b771b40dc8_stereo_4500_7500.png\n",
      "mel-spectrogram/validate/willie-wagtail/eb3e101c-4f12-4057-880d-dad68da259a5_stereo_8000_11000.png\n",
      "mel-spectrogram/validate/willie-wagtail/7ecd1d43-b55d-4299-811d-dc029c02617d_stereo_3500_6500.png\n",
      "mel-spectrogram/validate/willie-wagtail/eb3e101c-4f12-4057-880d-dad68da259a5_stereo_47500_50500.png\n",
      "mel-spectrogram/validate/willie-wagtail/72fcdd4c-29f0-41f9-a32a-6f30f4a4bbcc_stereo_9000_12000.png\n",
      "mel-spectrogram/validate/willie-wagtail/af674823-bb94-461f-8a5b-1431cd1b992a_stereo_47500_50500.png\n",
      "mel-spectrogram/validate/willie-wagtail/eb3e101c-4f12-4057-880d-dad68da259a5_stereo_48000_51000.png\n",
      "mel-spectrogram/validate/willie-wagtail/72fcdd4c-29f0-41f9-a32a-6f30f4a4bbcc_stereo_8500_11500.png\n",
      "mel-spectrogram/validate/willie-wagtail/af674823-bb94-461f-8a5b-1431cd1b992a_stereo_17000_20000.png\n",
      "mel-spectrogram/validate/willie-wagtail/7ecd1d43-b55d-4299-811d-dc029c02617d_stereo_4000_7000.png\n",
      "mel-spectrogram/validate/willie-wagtail/.ipynb_checkpoints/72fcdd4c-29f0-41f9-a32a-6f30f4a4bbcc_stereo_12500_15500-checkpoint.png\n",
      "mel-spectrogram/validate/.ipynb_checkpoints/bird-audio-validate-checkpoint.lst\n",
      "mel-spectrogram/validate/kookaburra/0f3df10f-be4a-49b0-b70a-54b174c7e015_stereo_1500_4500.png\n",
      "mel-spectrogram/validate/kookaburra/67208ba1-56e8-43b2-af56-c7f36a015a95_9000_12000.png\n",
      "mel-spectrogram/validate/kookaburra/0f3df10f-be4a-49b0-b70a-54b174c7e015_stereo_5500_8500.png\n",
      "mel-spectrogram/validate/kookaburra/7db70e1a-21b9-4282-b148-5e3d57fa6001_stereo_1500_4500.png\n",
      "mel-spectrogram/validate/kookaburra/67208ba1-56e8-43b2-af56-c7f36a015a95_8500_11500.png\n",
      "mel-spectrogram/validate/kookaburra/0f3df10f-be4a-49b0-b70a-54b174c7e015_stereo_3500_6500.png\n",
      "mel-spectrogram/validate/kookaburra/67208ba1-56e8-43b2-af56-c7f36a015a95_7000_10000.png\n",
      "mel-spectrogram/validate/kookaburra/718efcf9-5cd0-4aff-b7c4-5b6515b8f5be_6500_9500.png\n",
      "mel-spectrogram/validate/kookaburra/0f3df10f-be4a-49b0-b70a-54b174c7e015_stereo_4000_7000.png\n",
      "mel-spectrogram/validate/kookaburra/d97ed3dc-f418-4451-907d-5c1a69fc40a5_stereo_8500_11500.png\n",
      "mel-spectrogram/validate/kookaburra/0f3df10f-be4a-49b0-b70a-54b174c7e015_stereo_2500_5500.png\n",
      "mel-spectrogram/validate/kookaburra/67208ba1-56e8-43b2-af56-c7f36a015a95_18500_21500.png\n",
      "mel-spectrogram/validate/kookaburra/0f3df10f-be4a-49b0-b70a-54b174c7e015_stereo_6500_9500.png\n",
      "mel-spectrogram/validate/kookaburra/d97ed3dc-f418-4451-907d-5c1a69fc40a5_stereo_7000_10000.png\n",
      "mel-spectrogram/validate/kookaburra/718efcf9-5cd0-4aff-b7c4-5b6515b8f5be_3500_6500.png\n",
      "mel-spectrogram/validate/kookaburra/0f3df10f-be4a-49b0-b70a-54b174c7e015_stereo_5000_8000.png\n",
      "mel-spectrogram/validate/kookaburra/718efcf9-5cd0-4aff-b7c4-5b6515b8f5be_16500_19500.png\n",
      "mel-spectrogram/validate/kookaburra/67208ba1-56e8-43b2-af56-c7f36a015a95_23000_26000.png\n",
      "mel-spectrogram/validate/kookaburra/0f3df10f-be4a-49b0-b70a-54b174c7e015_stereo_4000_7000-checkpoint.png\n",
      "mel-spectrogram/validate/kookaburra/67208ba1-56e8-43b2-af56-c7f36a015a95_14000_17000.png\n",
      "mel-spectrogram/validate/kookaburra/67208ba1-56e8-43b2-af56-c7f36a015a95_500_3500.png\n",
      "mel-spectrogram/validate/kookaburra/67208ba1-56e8-43b2-af56-c7f36a015a95_13500_16500.png\n",
      "mel-spectrogram/validate/kookaburra/67208ba1-56e8-43b2-af56-c7f36a015a95_22500_25500.png\n",
      "mel-spectrogram/validate/kookaburra/67208ba1-56e8-43b2-af56-c7f36a015a95_11500_14500.png\n",
      "mel-spectrogram/validate/kookaburra/7cbc1cd6-9114-4cc7-961b-7e0f336ad24d_stereo_0_3000.png\n",
      "mel-spectrogram/validate/kookaburra/08e85865-c479-4032-a63f-e5d36d4eb154_3500_6500.png\n",
      "mel-spectrogram/validate/kookaburra/0f3df10f-be4a-49b0-b70a-54b174c7e015_stereo_9000_12000.png\n",
      "mel-spectrogram/validate/kookaburra/718efcf9-5cd0-4aff-b7c4-5b6515b8f5be_17000_20000.png\n",
      "mel-spectrogram/validate/kookaburra/67208ba1-56e8-43b2-af56-c7f36a015a95_21000_24000.png\n",
      "mel-spectrogram/validate/kookaburra/7db70e1a-21b9-4282-b148-5e3d57fa6001_stereo_8000_11000.png\n",
      "mel-spectrogram/validate/kookaburra/0f3df10f-be4a-49b0-b70a-54b174c7e015_stereo_7500_10500.png\n",
      "mel-spectrogram/validate/kookaburra/0f3df10f-be4a-49b0-b70a-54b174c7e015_stereo_500_3500-checkpoint.png\n",
      "mel-spectrogram/validate/kookaburra/249f605c-e971-4cf6-9b7e-aa6e95981863_stereo_8500_11500.png\n",
      "mel-spectrogram/validate/kookaburra/0f3df10f-be4a-49b0-b70a-54b174c7e015_stereo_8000_11000.png\n",
      "mel-spectrogram/validate/kookaburra/67208ba1-56e8-43b2-af56-c7f36a015a95_20000_23000.png\n",
      "mel-spectrogram/validate/kookaburra/718efcf9-5cd0-4aff-b7c4-5b6515b8f5be_17500_20500.png\n",
      "mel-spectrogram/validate/kookaburra/7cbc1cd6-9114-4cc7-961b-7e0f336ad24d_stereo_4500_7500.png\n",
      "mel-spectrogram/validate/kookaburra/d97ed3dc-f418-4451-907d-5c1a69fc40a5_stereo_3000_6000.png\n",
      "mel-spectrogram/validate/kookaburra/7cbc1cd6-9114-4cc7-961b-7e0f336ad24d_stereo_5000_8000.png\n",
      "mel-spectrogram/validate/kookaburra/67208ba1-56e8-43b2-af56-c7f36a015a95_22000_25000.png\n",
      "mel-spectrogram/validate/kookaburra/.ipynb_checkpoints/0f3df10f-be4a-49b0-b70a-54b174c7e015_stereo_2500_5500-checkpoint.png\n",
      "mel-spectrogram/validate/superb-lyrebird/1c0c0f8b-6b45-4f51-bf18-e8b061863208_stereo_16500_19500-checkpoint.png\n",
      "mel-spectrogram/validate/superb-lyrebird/1c0c0f8b-6b45-4f51-bf18-e8b061863208_stereo_7000_10000.png\n",
      "mel-spectrogram/validate/superb-lyrebird/1c0c0f8b-6b45-4f51-bf18-e8b061863208_stereo_18000_21000.png\n",
      "mel-spectrogram/validate/superb-lyrebird/ad42345c-e581-472c-bb79-4390360cf5fd_stereo_7500_10500.png\n",
      "mel-spectrogram/validate/superb-lyrebird/1c0c0f8b-6b45-4f51-bf18-e8b061863208_stereo_15500_18500-checkpoint.png\n",
      "mel-spectrogram/validate/superb-lyrebird/ad42345c-e581-472c-bb79-4390360cf5fd_stereo_6500_9500.png\n",
      "mel-spectrogram/validate/superb-lyrebird/1c0c0f8b-6b45-4f51-bf18-e8b061863208_stereo_2500_5500.png\n",
      "mel-spectrogram/validate/superb-lyrebird/1c0c0f8b-6b45-4f51-bf18-e8b061863208_stereo_15500_18500.png\n",
      "mel-spectrogram/validate/superb-lyrebird/1c0c0f8b-6b45-4f51-bf18-e8b061863208_stereo_10000_13000.png\n",
      "mel-spectrogram/validate/superb-lyrebird/ad42345c-e581-472c-bb79-4390360cf5fd_stereo_10000_13000.png\n",
      "mel-spectrogram/validate/superb-lyrebird/ad42345c-e581-472c-bb79-4390360cf5fd_stereo_4500_7500.png\n",
      "mel-spectrogram/validate/superb-lyrebird/1c0c0f8b-6b45-4f51-bf18-e8b061863208_stereo_12500_15500.png\n",
      "mel-spectrogram/validate/superb-lyrebird/1c0c0f8b-6b45-4f51-bf18-e8b061863208_stereo_16500_19500.png\n",
      "mel-spectrogram/validate/superb-lyrebird/1c0c0f8b-6b45-4f51-bf18-e8b061863208_stereo_11000_14000.png\n",
      "mel-spectrogram/validate/superb-lyrebird/ad42345c-e581-472c-bb79-4390360cf5fd_stereo_15000_18000.png\n",
      "mel-spectrogram/validate/superb-lyrebird/ad42345c-e581-472c-bb79-4390360cf5fd_stereo_2000_5000.png\n"
     ]
    }
   ],
   "source": [
    "path = '../Data/mel-spectrogram/validate'\n",
    "for subdir, dirs, files in os.walk(path):\n",
    "    for file in files:\n",
    "        full_path = os.path.join(subdir, file)\n",
    "        #with the moving of the data, needed to chagne the path for s3\n",
    "        image_path = '/'.join(full_path.split('/')[2:]))\n",
    "        with open(full_path, 'rb') as data:\n",
    "            bucket.put_object(Key=image_path, Body=data)"
   ]
  },
  {
   "cell_type": "code",
   "execution_count": null,
   "metadata": {},
   "outputs": [],
   "source": []
  }
 ],
 "metadata": {
  "instance_type": "ml.t3.medium",
  "kernelspec": {
   "display_name": "Python 3 (Data Science)",
   "language": "python",
   "name": "python3__SAGEMAKER_INTERNAL__arn:aws:sagemaker:ap-southeast-2:452832661640:image/datascience-1.0"
  },
  "language_info": {
   "codemirror_mode": {
    "name": "ipython",
    "version": 3
   },
   "file_extension": ".py",
   "mimetype": "text/x-python",
   "name": "python",
   "nbconvert_exporter": "python",
   "pygments_lexer": "ipython3",
   "version": "3.7.10"
  }
 },
 "nbformat": 4,
 "nbformat_minor": 5
}
