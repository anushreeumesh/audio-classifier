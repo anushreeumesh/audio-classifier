{
 "cells": [
  {
   "cell_type": "code",
   "execution_count": 2,
   "metadata": {},
   "outputs": [
    {
     "name": "stdout",
     "output_type": "stream",
     "text": [
      "Requirement already satisfied: pydub in /opt/conda/lib/python3.7/site-packages (0.25.1)\n",
      "\u001b[33mWARNING: Running pip as the 'root' user can result in broken permissions and conflicting behaviour with the system package manager. It is recommended to use a virtual environment instead: https://pip.pypa.io/warnings/venv\u001b[0m\u001b[33m\n",
      "\u001b[0m"
     ]
    }
   ],
   "source": [
    "!pip install pydub"
   ]
  },
  {
   "cell_type": "code",
   "execution_count": 34,
   "metadata": {},
   "outputs": [
    {
     "name": "stdout",
     "output_type": "stream",
     "text": [
      "Requirement already satisfied: ffmpeg in /opt/conda/lib/python3.7/site-packages (1.4)\n",
      "\u001b[33mWARNING: Running pip as the 'root' user can result in broken permissions and conflicting behaviour with the system package manager. It is recommended to use a virtual environment instead: https://pip.pypa.io/warnings/venv\u001b[0m\u001b[33m\n",
      "\u001b[0m"
     ]
    }
   ],
   "source": [
    "!pip install ffmpeg"
   ]
  },
  {
   "cell_type": "code",
   "execution_count": 5,
   "metadata": {},
   "outputs": [],
   "source": [
    "import boto3\n",
    "from pydub import AudioSegment\n",
    "import os\n",
    "import io\n",
    "import sys"
   ]
  },
  {
   "cell_type": "code",
   "execution_count": 17,
   "metadata": {},
   "outputs": [],
   "source": [
    "def mono_to_stereo(file_path):\n",
    "    \n",
    "    left_channel = AudioSegment.from_wav(file_path)\n",
    "    right_channel = AudioSegment.from_wav(file_path)\n",
    "\n",
    "    stereo_sound = AudioSegment.from_mono_audiosegments(left_channel, right_channel)\n",
    "    file_no_ext = os.path.splitext(file_path)[0]\n",
    "    stereo_sound.export(file_no_ext+'_stereo.wav', format=\"wav\")\n",
    "    return file_no_ext+'_stereo.wav'"
   ]
  },
  {
   "cell_type": "code",
   "execution_count": 17,
   "metadata": {},
   "outputs": [],
   "source": [
    "def process_audio(audio):\n",
    "    \n",
    "    left_channel = AudioSegment.from_wav(audio)\n",
    "    right_channel = AudioSegment.from_wav(audio)\n",
    "\n",
    "    stereo_sound = AudioSegment.from_mono_audiosegments(left_channel, right_channel)\n",
    "    file_no_ext = os.path.splitext(file_path)[0]\n",
    "    stereo_sound.export(file_no_ext+'_stereo.wav', format=\"wav\")\n",
    "    return file_no_ext+'_stereo.wav'"
   ]
  },
  {
   "cell_type": "code",
   "execution_count": 68,
   "metadata": {
    "collapsed": true,
    "jupyter": {
     "outputs_hidden": true
    }
   },
   "outputs": [
    {
     "ename": "FileNotFoundError",
     "evalue": "[Errno 2] No such file or directory: 'processed/eastern-whipbird/1d4bed34-4f47-4f8f-903f-ee1f88f28efa.wav.7C22a409'",
     "output_type": "error",
     "traceback": [
      "\u001b[0;31m---------------------------------------------------------------------------\u001b[0m",
      "\u001b[0;31mFileNotFoundError\u001b[0m                         Traceback (most recent call last)",
      "\u001b[0;32m<ipython-input-68-5d1e35407a41>\u001b[0m in \u001b[0;36m<module>\u001b[0;34m\u001b[0m\n\u001b[1;32m      6\u001b[0m \u001b[0;32mfor\u001b[0m \u001b[0mobj\u001b[0m \u001b[0;32min\u001b[0m \u001b[0mbucket\u001b[0m\u001b[0;34m.\u001b[0m\u001b[0mobjects\u001b[0m\u001b[0;34m.\u001b[0m\u001b[0mfilter\u001b[0m\u001b[0;34m(\u001b[0m\u001b[0mPrefix\u001b[0m\u001b[0;34m=\u001b[0m\u001b[0;34m'processed/'\u001b[0m\u001b[0;34m)\u001b[0m\u001b[0;34m:\u001b[0m\u001b[0;34m\u001b[0m\u001b[0;34m\u001b[0m\u001b[0m\n\u001b[1;32m      7\u001b[0m     \u001b[0;32mif\u001b[0m \u001b[0mobj\u001b[0m\u001b[0;34m.\u001b[0m\u001b[0msize\u001b[0m\u001b[0;34m:\u001b[0m\u001b[0;34m\u001b[0m\u001b[0;34m\u001b[0m\u001b[0m\n\u001b[0;32m----> 8\u001b[0;31m         \u001b[0mbucket\u001b[0m\u001b[0;34m.\u001b[0m\u001b[0mdownload_file\u001b[0m\u001b[0;34m(\u001b[0m\u001b[0mstr\u001b[0m\u001b[0;34m(\u001b[0m\u001b[0mobj\u001b[0m\u001b[0;34m.\u001b[0m\u001b[0mkey\u001b[0m\u001b[0;34m)\u001b[0m\u001b[0;34m,\u001b[0m \u001b[0mstr\u001b[0m\u001b[0;34m(\u001b[0m\u001b[0mobj\u001b[0m\u001b[0;34m.\u001b[0m\u001b[0mkey\u001b[0m\u001b[0;34m)\u001b[0m\u001b[0;34m)\u001b[0m\u001b[0;34m\u001b[0m\u001b[0;34m\u001b[0m\u001b[0m\n\u001b[0m",
      "\u001b[0;32m/opt/conda/lib/python3.7/site-packages/boto3/s3/inject.py\u001b[0m in \u001b[0;36mbucket_download_file\u001b[0;34m(self, Key, Filename, ExtraArgs, Callback, Config)\u001b[0m\n\u001b[1;32m    281\u001b[0m         \u001b[0mExtraArgs\u001b[0m\u001b[0;34m=\u001b[0m\u001b[0mExtraArgs\u001b[0m\u001b[0;34m,\u001b[0m\u001b[0;34m\u001b[0m\u001b[0;34m\u001b[0m\u001b[0m\n\u001b[1;32m    282\u001b[0m         \u001b[0mCallback\u001b[0m\u001b[0;34m=\u001b[0m\u001b[0mCallback\u001b[0m\u001b[0;34m,\u001b[0m\u001b[0;34m\u001b[0m\u001b[0;34m\u001b[0m\u001b[0m\n\u001b[0;32m--> 283\u001b[0;31m         \u001b[0mConfig\u001b[0m\u001b[0;34m=\u001b[0m\u001b[0mConfig\u001b[0m\u001b[0;34m,\u001b[0m\u001b[0;34m\u001b[0m\u001b[0;34m\u001b[0m\u001b[0m\n\u001b[0m\u001b[1;32m    284\u001b[0m     )\n\u001b[1;32m    285\u001b[0m \u001b[0;34m\u001b[0m\u001b[0m\n",
      "\u001b[0;32m/opt/conda/lib/python3.7/site-packages/boto3/s3/inject.py\u001b[0m in \u001b[0;36mdownload_file\u001b[0;34m(self, Bucket, Key, Filename, ExtraArgs, Callback, Config)\u001b[0m\n\u001b[1;32m    193\u001b[0m             \u001b[0mfilename\u001b[0m\u001b[0;34m=\u001b[0m\u001b[0mFilename\u001b[0m\u001b[0;34m,\u001b[0m\u001b[0;34m\u001b[0m\u001b[0;34m\u001b[0m\u001b[0m\n\u001b[1;32m    194\u001b[0m             \u001b[0mextra_args\u001b[0m\u001b[0;34m=\u001b[0m\u001b[0mExtraArgs\u001b[0m\u001b[0;34m,\u001b[0m\u001b[0;34m\u001b[0m\u001b[0;34m\u001b[0m\u001b[0m\n\u001b[0;32m--> 195\u001b[0;31m             \u001b[0mcallback\u001b[0m\u001b[0;34m=\u001b[0m\u001b[0mCallback\u001b[0m\u001b[0;34m,\u001b[0m\u001b[0;34m\u001b[0m\u001b[0;34m\u001b[0m\u001b[0m\n\u001b[0m\u001b[1;32m    196\u001b[0m         )\n\u001b[1;32m    197\u001b[0m \u001b[0;34m\u001b[0m\u001b[0m\n",
      "\u001b[0;32m/opt/conda/lib/python3.7/site-packages/boto3/s3/transfer.py\u001b[0m in \u001b[0;36mdownload_file\u001b[0;34m(self, bucket, key, filename, extra_args, callback)\u001b[0m\n\u001b[1;32m    318\u001b[0m         )\n\u001b[1;32m    319\u001b[0m         \u001b[0;32mtry\u001b[0m\u001b[0;34m:\u001b[0m\u001b[0;34m\u001b[0m\u001b[0;34m\u001b[0m\u001b[0m\n\u001b[0;32m--> 320\u001b[0;31m             \u001b[0mfuture\u001b[0m\u001b[0;34m.\u001b[0m\u001b[0mresult\u001b[0m\u001b[0;34m(\u001b[0m\u001b[0;34m)\u001b[0m\u001b[0;34m\u001b[0m\u001b[0;34m\u001b[0m\u001b[0m\n\u001b[0m\u001b[1;32m    321\u001b[0m         \u001b[0;31m# This is for backwards compatibility where when retries are\u001b[0m\u001b[0;34m\u001b[0m\u001b[0;34m\u001b[0m\u001b[0;34m\u001b[0m\u001b[0m\n\u001b[1;32m    322\u001b[0m         \u001b[0;31m# exceeded we need to throw the same error from boto3 instead of\u001b[0m\u001b[0;34m\u001b[0m\u001b[0;34m\u001b[0m\u001b[0;34m\u001b[0m\u001b[0m\n",
      "\u001b[0;32m/opt/conda/lib/python3.7/site-packages/s3transfer/futures.py\u001b[0m in \u001b[0;36mresult\u001b[0;34m(self)\u001b[0m\n\u001b[1;32m    101\u001b[0m             \u001b[0;31m# however if a KeyboardInterrupt is raised we want want to exit\u001b[0m\u001b[0;34m\u001b[0m\u001b[0;34m\u001b[0m\u001b[0;34m\u001b[0m\u001b[0m\n\u001b[1;32m    102\u001b[0m             \u001b[0;31m# out of this and propagate the exception.\u001b[0m\u001b[0;34m\u001b[0m\u001b[0;34m\u001b[0m\u001b[0;34m\u001b[0m\u001b[0m\n\u001b[0;32m--> 103\u001b[0;31m             \u001b[0;32mreturn\u001b[0m \u001b[0mself\u001b[0m\u001b[0;34m.\u001b[0m\u001b[0m_coordinator\u001b[0m\u001b[0;34m.\u001b[0m\u001b[0mresult\u001b[0m\u001b[0;34m(\u001b[0m\u001b[0;34m)\u001b[0m\u001b[0;34m\u001b[0m\u001b[0;34m\u001b[0m\u001b[0m\n\u001b[0m\u001b[1;32m    104\u001b[0m         \u001b[0;32mexcept\u001b[0m \u001b[0mKeyboardInterrupt\u001b[0m \u001b[0;32mas\u001b[0m \u001b[0me\u001b[0m\u001b[0;34m:\u001b[0m\u001b[0;34m\u001b[0m\u001b[0;34m\u001b[0m\u001b[0m\n\u001b[1;32m    105\u001b[0m             \u001b[0mself\u001b[0m\u001b[0;34m.\u001b[0m\u001b[0mcancel\u001b[0m\u001b[0;34m(\u001b[0m\u001b[0;34m)\u001b[0m\u001b[0;34m\u001b[0m\u001b[0;34m\u001b[0m\u001b[0m\n",
      "\u001b[0;32m/opt/conda/lib/python3.7/site-packages/s3transfer/futures.py\u001b[0m in \u001b[0;36mresult\u001b[0;34m(self)\u001b[0m\n\u001b[1;32m    264\u001b[0m         \u001b[0;31m# final result.\u001b[0m\u001b[0;34m\u001b[0m\u001b[0;34m\u001b[0m\u001b[0;34m\u001b[0m\u001b[0m\n\u001b[1;32m    265\u001b[0m         \u001b[0;32mif\u001b[0m \u001b[0mself\u001b[0m\u001b[0;34m.\u001b[0m\u001b[0m_exception\u001b[0m\u001b[0;34m:\u001b[0m\u001b[0;34m\u001b[0m\u001b[0;34m\u001b[0m\u001b[0m\n\u001b[0;32m--> 266\u001b[0;31m             \u001b[0;32mraise\u001b[0m \u001b[0mself\u001b[0m\u001b[0;34m.\u001b[0m\u001b[0m_exception\u001b[0m\u001b[0;34m\u001b[0m\u001b[0;34m\u001b[0m\u001b[0m\n\u001b[0m\u001b[1;32m    267\u001b[0m         \u001b[0;32mreturn\u001b[0m \u001b[0mself\u001b[0m\u001b[0;34m.\u001b[0m\u001b[0m_result\u001b[0m\u001b[0;34m\u001b[0m\u001b[0;34m\u001b[0m\u001b[0m\n\u001b[1;32m    268\u001b[0m \u001b[0;34m\u001b[0m\u001b[0m\n",
      "\u001b[0;32m/opt/conda/lib/python3.7/site-packages/s3transfer/tasks.py\u001b[0m in \u001b[0;36m__call__\u001b[0;34m(self)\u001b[0m\n\u001b[1;32m    137\u001b[0m             \u001b[0;31m# main() method.\u001b[0m\u001b[0;34m\u001b[0m\u001b[0;34m\u001b[0m\u001b[0;34m\u001b[0m\u001b[0m\n\u001b[1;32m    138\u001b[0m             \u001b[0;32mif\u001b[0m \u001b[0;32mnot\u001b[0m \u001b[0mself\u001b[0m\u001b[0;34m.\u001b[0m\u001b[0m_transfer_coordinator\u001b[0m\u001b[0;34m.\u001b[0m\u001b[0mdone\u001b[0m\u001b[0;34m(\u001b[0m\u001b[0;34m)\u001b[0m\u001b[0;34m:\u001b[0m\u001b[0;34m\u001b[0m\u001b[0;34m\u001b[0m\u001b[0m\n\u001b[0;32m--> 139\u001b[0;31m                 \u001b[0;32mreturn\u001b[0m \u001b[0mself\u001b[0m\u001b[0;34m.\u001b[0m\u001b[0m_execute_main\u001b[0m\u001b[0;34m(\u001b[0m\u001b[0mkwargs\u001b[0m\u001b[0;34m)\u001b[0m\u001b[0;34m\u001b[0m\u001b[0;34m\u001b[0m\u001b[0m\n\u001b[0m\u001b[1;32m    140\u001b[0m         \u001b[0;32mexcept\u001b[0m \u001b[0mException\u001b[0m \u001b[0;32mas\u001b[0m \u001b[0me\u001b[0m\u001b[0;34m:\u001b[0m\u001b[0;34m\u001b[0m\u001b[0;34m\u001b[0m\u001b[0m\n\u001b[1;32m    141\u001b[0m             \u001b[0mself\u001b[0m\u001b[0;34m.\u001b[0m\u001b[0m_log_and_set_exception\u001b[0m\u001b[0;34m(\u001b[0m\u001b[0me\u001b[0m\u001b[0;34m)\u001b[0m\u001b[0;34m\u001b[0m\u001b[0;34m\u001b[0m\u001b[0m\n",
      "\u001b[0;32m/opt/conda/lib/python3.7/site-packages/s3transfer/tasks.py\u001b[0m in \u001b[0;36m_execute_main\u001b[0;34m(self, kwargs)\u001b[0m\n\u001b[1;32m    160\u001b[0m         \u001b[0mlogger\u001b[0m\u001b[0;34m.\u001b[0m\u001b[0mdebug\u001b[0m\u001b[0;34m(\u001b[0m\u001b[0;34mf\"Executing task {self} with kwargs {kwargs_to_display}\"\u001b[0m\u001b[0;34m)\u001b[0m\u001b[0;34m\u001b[0m\u001b[0;34m\u001b[0m\u001b[0m\n\u001b[1;32m    161\u001b[0m \u001b[0;34m\u001b[0m\u001b[0m\n\u001b[0;32m--> 162\u001b[0;31m         \u001b[0mreturn_value\u001b[0m \u001b[0;34m=\u001b[0m \u001b[0mself\u001b[0m\u001b[0;34m.\u001b[0m\u001b[0m_main\u001b[0m\u001b[0;34m(\u001b[0m\u001b[0;34m**\u001b[0m\u001b[0mkwargs\u001b[0m\u001b[0;34m)\u001b[0m\u001b[0;34m\u001b[0m\u001b[0;34m\u001b[0m\u001b[0m\n\u001b[0m\u001b[1;32m    163\u001b[0m         \u001b[0;31m# If the task is the final task, then set the TransferFuture's\u001b[0m\u001b[0;34m\u001b[0m\u001b[0;34m\u001b[0m\u001b[0;34m\u001b[0m\u001b[0m\n\u001b[1;32m    164\u001b[0m         \u001b[0;31m# value to the return value from main().\u001b[0m\u001b[0;34m\u001b[0m\u001b[0;34m\u001b[0m\u001b[0;34m\u001b[0m\u001b[0m\n",
      "\u001b[0;32m/opt/conda/lib/python3.7/site-packages/s3transfer/download.py\u001b[0m in \u001b[0;36m_main\u001b[0;34m(self, fileobj, data, offset)\u001b[0m\n\u001b[1;32m    640\u001b[0m         \u001b[0;34m:\u001b[0m\u001b[0mparam\u001b[0m \u001b[0moffset\u001b[0m\u001b[0;34m:\u001b[0m \u001b[0mThe\u001b[0m \u001b[0moffset\u001b[0m \u001b[0mto\u001b[0m \u001b[0mwrite\u001b[0m \u001b[0mthe\u001b[0m \u001b[0mdata\u001b[0m \u001b[0mto\u001b[0m\u001b[0;34m.\u001b[0m\u001b[0;34m\u001b[0m\u001b[0;34m\u001b[0m\u001b[0m\n\u001b[1;32m    641\u001b[0m         \"\"\"\n\u001b[0;32m--> 642\u001b[0;31m         \u001b[0mfileobj\u001b[0m\u001b[0;34m.\u001b[0m\u001b[0mseek\u001b[0m\u001b[0;34m(\u001b[0m\u001b[0moffset\u001b[0m\u001b[0;34m)\u001b[0m\u001b[0;34m\u001b[0m\u001b[0;34m\u001b[0m\u001b[0m\n\u001b[0m\u001b[1;32m    643\u001b[0m         \u001b[0mfileobj\u001b[0m\u001b[0;34m.\u001b[0m\u001b[0mwrite\u001b[0m\u001b[0;34m(\u001b[0m\u001b[0mdata\u001b[0m\u001b[0;34m)\u001b[0m\u001b[0;34m\u001b[0m\u001b[0;34m\u001b[0m\u001b[0m\n\u001b[1;32m    644\u001b[0m \u001b[0;34m\u001b[0m\u001b[0m\n",
      "\u001b[0;32m/opt/conda/lib/python3.7/site-packages/s3transfer/utils.py\u001b[0m in \u001b[0;36mseek\u001b[0;34m(self, where, whence)\u001b[0m\n\u001b[1;32m    376\u001b[0m \u001b[0;34m\u001b[0m\u001b[0m\n\u001b[1;32m    377\u001b[0m     \u001b[0;32mdef\u001b[0m \u001b[0mseek\u001b[0m\u001b[0;34m(\u001b[0m\u001b[0mself\u001b[0m\u001b[0;34m,\u001b[0m \u001b[0mwhere\u001b[0m\u001b[0;34m,\u001b[0m \u001b[0mwhence\u001b[0m\u001b[0;34m=\u001b[0m\u001b[0;36m0\u001b[0m\u001b[0;34m)\u001b[0m\u001b[0;34m:\u001b[0m\u001b[0;34m\u001b[0m\u001b[0;34m\u001b[0m\u001b[0m\n\u001b[0;32m--> 378\u001b[0;31m         \u001b[0mself\u001b[0m\u001b[0;34m.\u001b[0m\u001b[0m_open_if_needed\u001b[0m\u001b[0;34m(\u001b[0m\u001b[0;34m)\u001b[0m\u001b[0;34m\u001b[0m\u001b[0;34m\u001b[0m\u001b[0m\n\u001b[0m\u001b[1;32m    379\u001b[0m         \u001b[0mself\u001b[0m\u001b[0;34m.\u001b[0m\u001b[0m_fileobj\u001b[0m\u001b[0;34m.\u001b[0m\u001b[0mseek\u001b[0m\u001b[0;34m(\u001b[0m\u001b[0mwhere\u001b[0m\u001b[0;34m,\u001b[0m \u001b[0mwhence\u001b[0m\u001b[0;34m)\u001b[0m\u001b[0;34m\u001b[0m\u001b[0;34m\u001b[0m\u001b[0m\n\u001b[1;32m    380\u001b[0m \u001b[0;34m\u001b[0m\u001b[0m\n",
      "\u001b[0;32m/opt/conda/lib/python3.7/site-packages/s3transfer/utils.py\u001b[0m in \u001b[0;36m_open_if_needed\u001b[0;34m(self)\u001b[0m\n\u001b[1;32m    359\u001b[0m     \u001b[0;32mdef\u001b[0m \u001b[0m_open_if_needed\u001b[0m\u001b[0;34m(\u001b[0m\u001b[0mself\u001b[0m\u001b[0;34m)\u001b[0m\u001b[0;34m:\u001b[0m\u001b[0;34m\u001b[0m\u001b[0;34m\u001b[0m\u001b[0m\n\u001b[1;32m    360\u001b[0m         \u001b[0;32mif\u001b[0m \u001b[0mself\u001b[0m\u001b[0;34m.\u001b[0m\u001b[0m_fileobj\u001b[0m \u001b[0;32mis\u001b[0m \u001b[0;32mNone\u001b[0m\u001b[0;34m:\u001b[0m\u001b[0;34m\u001b[0m\u001b[0;34m\u001b[0m\u001b[0m\n\u001b[0;32m--> 361\u001b[0;31m             \u001b[0mself\u001b[0m\u001b[0;34m.\u001b[0m\u001b[0m_fileobj\u001b[0m \u001b[0;34m=\u001b[0m \u001b[0mself\u001b[0m\u001b[0;34m.\u001b[0m\u001b[0m_open_function\u001b[0m\u001b[0;34m(\u001b[0m\u001b[0mself\u001b[0m\u001b[0;34m.\u001b[0m\u001b[0m_filename\u001b[0m\u001b[0;34m,\u001b[0m \u001b[0mself\u001b[0m\u001b[0;34m.\u001b[0m\u001b[0m_mode\u001b[0m\u001b[0;34m)\u001b[0m\u001b[0;34m\u001b[0m\u001b[0;34m\u001b[0m\u001b[0m\n\u001b[0m\u001b[1;32m    362\u001b[0m             \u001b[0;32mif\u001b[0m \u001b[0mself\u001b[0m\u001b[0;34m.\u001b[0m\u001b[0m_start_byte\u001b[0m \u001b[0;34m!=\u001b[0m \u001b[0;36m0\u001b[0m\u001b[0;34m:\u001b[0m\u001b[0;34m\u001b[0m\u001b[0;34m\u001b[0m\u001b[0m\n\u001b[1;32m    363\u001b[0m                 \u001b[0mself\u001b[0m\u001b[0;34m.\u001b[0m\u001b[0m_fileobj\u001b[0m\u001b[0;34m.\u001b[0m\u001b[0mseek\u001b[0m\u001b[0;34m(\u001b[0m\u001b[0mself\u001b[0m\u001b[0;34m.\u001b[0m\u001b[0m_start_byte\u001b[0m\u001b[0;34m)\u001b[0m\u001b[0;34m\u001b[0m\u001b[0;34m\u001b[0m\u001b[0m\n",
      "\u001b[0;32m/opt/conda/lib/python3.7/site-packages/s3transfer/utils.py\u001b[0m in \u001b[0;36mopen\u001b[0;34m(self, filename, mode)\u001b[0m\n\u001b[1;32m    270\u001b[0m \u001b[0;34m\u001b[0m\u001b[0m\n\u001b[1;32m    271\u001b[0m     \u001b[0;32mdef\u001b[0m \u001b[0mopen\u001b[0m\u001b[0;34m(\u001b[0m\u001b[0mself\u001b[0m\u001b[0;34m,\u001b[0m \u001b[0mfilename\u001b[0m\u001b[0;34m,\u001b[0m \u001b[0mmode\u001b[0m\u001b[0;34m)\u001b[0m\u001b[0;34m:\u001b[0m\u001b[0;34m\u001b[0m\u001b[0;34m\u001b[0m\u001b[0m\n\u001b[0;32m--> 272\u001b[0;31m         \u001b[0;32mreturn\u001b[0m \u001b[0mopen\u001b[0m\u001b[0;34m(\u001b[0m\u001b[0mfilename\u001b[0m\u001b[0;34m,\u001b[0m \u001b[0mmode\u001b[0m\u001b[0;34m)\u001b[0m\u001b[0;34m\u001b[0m\u001b[0;34m\u001b[0m\u001b[0m\n\u001b[0m\u001b[1;32m    273\u001b[0m \u001b[0;34m\u001b[0m\u001b[0m\n\u001b[1;32m    274\u001b[0m     \u001b[0;32mdef\u001b[0m \u001b[0mremove_file\u001b[0m\u001b[0;34m(\u001b[0m\u001b[0mself\u001b[0m\u001b[0;34m,\u001b[0m \u001b[0mfilename\u001b[0m\u001b[0;34m)\u001b[0m\u001b[0;34m:\u001b[0m\u001b[0;34m\u001b[0m\u001b[0;34m\u001b[0m\u001b[0m\n",
      "\u001b[0;31mFileNotFoundError\u001b[0m: [Errno 2] No such file or directory: 'processed/eastern-whipbird/1d4bed34-4f47-4f8f-903f-ee1f88f28efa.wav.7C22a409'"
     ]
    }
   ],
   "source": [
    "s3c = boto3.client('s3')\n",
    "s3r = boto3.resource('s3')\n",
    "\n",
    "bucket = s3r.Bucket('audio-classifier-data')\n",
    "\n",
    "for obj in bucket.objects.filter(Prefix='processed/'):\n",
    "    if obj.size:\n",
    "        bucket.download_file(str(obj.key), str(obj.key))"
   ]
  },
  {
   "cell_type": "code",
   "execution_count": 29,
   "metadata": {},
   "outputs": [
    {
     "ename": "FileExistsError",
     "evalue": "[Errno 17] File exists: 'clips'",
     "output_type": "error",
     "traceback": [
      "\u001b[0;31m---------------------------------------------------------------------------\u001b[0m",
      "\u001b[0;31mFileExistsError\u001b[0m                           Traceback (most recent call last)",
      "\u001b[0;32m<ipython-input-29-692cf3df069e>\u001b[0m in \u001b[0;36m<module>\u001b[0;34m\u001b[0m\n\u001b[1;32m      7\u001b[0m \u001b[0;32mfor\u001b[0m \u001b[0ms3_object\u001b[0m \u001b[0;32min\u001b[0m \u001b[0mbucket\u001b[0m\u001b[0;34m.\u001b[0m\u001b[0mobjects\u001b[0m\u001b[0;34m.\u001b[0m\u001b[0mall\u001b[0m\u001b[0;34m(\u001b[0m\u001b[0;34m)\u001b[0m\u001b[0;34m:\u001b[0m\u001b[0;34m\u001b[0m\u001b[0;34m\u001b[0m\u001b[0m\n\u001b[1;32m      8\u001b[0m     \u001b[0mpath\u001b[0m\u001b[0;34m,\u001b[0m \u001b[0mfilename\u001b[0m \u001b[0;34m=\u001b[0m \u001b[0mos\u001b[0m\u001b[0;34m.\u001b[0m\u001b[0mpath\u001b[0m\u001b[0;34m.\u001b[0m\u001b[0msplit\u001b[0m\u001b[0;34m(\u001b[0m\u001b[0ms3_object\u001b[0m\u001b[0;34m.\u001b[0m\u001b[0mkey\u001b[0m\u001b[0;34m)\u001b[0m\u001b[0;34m\u001b[0m\u001b[0;34m\u001b[0m\u001b[0m\n\u001b[0;32m----> 9\u001b[0;31m     \u001b[0mos\u001b[0m\u001b[0;34m.\u001b[0m\u001b[0mmakedirs\u001b[0m\u001b[0;34m(\u001b[0m\u001b[0mpath\u001b[0m\u001b[0;34m)\u001b[0m\u001b[0;34m\u001b[0m\u001b[0;34m\u001b[0m\u001b[0m\n\u001b[0m\u001b[1;32m     10\u001b[0m     \u001b[0mbucket\u001b[0m\u001b[0;34m.\u001b[0m\u001b[0mdownload_file\u001b[0m\u001b[0;34m(\u001b[0m\u001b[0ms3_object\u001b[0m\u001b[0;34m.\u001b[0m\u001b[0mkey\u001b[0m\u001b[0;34m,\u001b[0m \u001b[0mpath\u001b[0m\u001b[0;34m+\u001b[0m\u001b[0;34m\"/\"\u001b[0m\u001b[0;34m+\u001b[0m\u001b[0mfilename\u001b[0m\u001b[0;34m)\u001b[0m\u001b[0;34m\u001b[0m\u001b[0;34m\u001b[0m\u001b[0m\n",
      "\u001b[0;32m/opt/conda/lib/python3.7/os.py\u001b[0m in \u001b[0;36mmakedirs\u001b[0;34m(name, mode, exist_ok)\u001b[0m\n\u001b[1;32m    221\u001b[0m             \u001b[0;32mreturn\u001b[0m\u001b[0;34m\u001b[0m\u001b[0;34m\u001b[0m\u001b[0m\n\u001b[1;32m    222\u001b[0m     \u001b[0;32mtry\u001b[0m\u001b[0;34m:\u001b[0m\u001b[0;34m\u001b[0m\u001b[0;34m\u001b[0m\u001b[0m\n\u001b[0;32m--> 223\u001b[0;31m         \u001b[0mmkdir\u001b[0m\u001b[0;34m(\u001b[0m\u001b[0mname\u001b[0m\u001b[0;34m,\u001b[0m \u001b[0mmode\u001b[0m\u001b[0;34m)\u001b[0m\u001b[0;34m\u001b[0m\u001b[0;34m\u001b[0m\u001b[0m\n\u001b[0m\u001b[1;32m    224\u001b[0m     \u001b[0;32mexcept\u001b[0m \u001b[0mOSError\u001b[0m\u001b[0;34m:\u001b[0m\u001b[0;34m\u001b[0m\u001b[0;34m\u001b[0m\u001b[0m\n\u001b[1;32m    225\u001b[0m         \u001b[0;31m# Cannot rely on checking for EEXIST, since the operating system\u001b[0m\u001b[0;34m\u001b[0m\u001b[0;34m\u001b[0m\u001b[0;34m\u001b[0m\u001b[0m\n",
      "\u001b[0;31mFileExistsError\u001b[0m: [Errno 17] File exists: 'clips'"
     ]
    }
   ],
   "source": [
    "s3r = boto3.resource('s3')\n",
    "\n",
    "# Select Your S3 Bucket\n",
    "bucket = s3r.Bucket('audio-classifier-data')\n",
    "\n",
    "# Iterate All Objects in Your S3 Bucket Over the for Loop\n",
    "for s3_object in bucket.objects.all():\n",
    "    path, filename = os.path.split(s3_object.key)\n",
    "    os.makedirs(path) \n",
    "    bucket.download_file(s3_object.key, path+\"/\"+filename)"
   ]
  },
  {
   "cell_type": "code",
   "execution_count": 85,
   "metadata": {
    "collapsed": true,
    "jupyter": {
     "outputs_hidden": true
    }
   },
   "outputs": [
    {
     "name": "stdout",
     "output_type": "stream",
     "text": [
      "clips/\n",
      "mel-spectrogram/\n",
      "processed/\n",
      "processed/eastern-whipbird/\n",
      "processed/eastern-whipbird/1d4bed34-4f47-4f8f-903f-ee1f88f28efa.wav\n",
      "processed/eastern-whipbird/6316ecca-4b96-4477-8da7-e764429fa389.wav\n",
      "processed/eastern-whipbird/aad78fc7-f674-4d44-af53-d3d25083420e.wav\n",
      "processed/eastern-whipbird/b1a5da01-8a74-4abb-8cce-c68c31dc0a60.wav\n",
      "processed/eastern-whipbird/b551a17d-28d5-4ee1-b5c1-19caa98ae514.wav\n",
      "processed/eastern-whipbird/bf8d74b6-9763-4978-af5e-dda940d8f5f1.wav\n",
      "processed/eastern-whipbird/dc6e3770-220e-43fe-9e84-dba5aa9b9770.wav\n",
      "processed/eastern-whipbird/e409f4db-c60c-4d94-afbe-e7c3ba8db79c.wav\n",
      "processed/kookaburra/\n",
      "processed/kookaburra/08e85865-c479-4032-a63f-e5d36d4eb154.wav\n",
      "processed/kookaburra/0f3df10f-be4a-49b0-b70a-54b174c7e015.wav\n",
      "processed/kookaburra/249f605c-e971-4cf6-9b7e-aa6e95981863.wav\n",
      "processed/kookaburra/67208ba1-56e8-43b2-af56-c7f36a015a95.wav\n",
      "processed/kookaburra/718efcf9-5cd0-4aff-b7c4-5b6515b8f5be.wav\n",
      "processed/kookaburra/7cbc1cd6-9114-4cc7-961b-7e0f336ad24d.wav\n",
      "processed/kookaburra/7db20dc9-6e26-4c93-b845-6fc254c39148.wav\n",
      "processed/kookaburra/7db70e1a-21b9-4282-b148-5e3d57fa6001.wav\n",
      "processed/kookaburra/d97ed3dc-f418-4451-907d-5c1a69fc40a5.wav\n",
      "processed/superb-lyrebird/\n",
      "processed/superb-lyrebird/1c0c0f8b-6b45-4f51-bf18-e8b061863208.wav\n",
      "processed/superb-lyrebird/ad42345c-e581-472c-bb79-4390360cf5fd.wav\n",
      "processed/willie-wagtail/\n",
      "processed/willie-wagtail/72fcdd4c-29f0-41f9-a32a-6f30f4a4bbcc.mp3\n",
      "processed/willie-wagtail/7ecd1d43-b55d-4299-811d-dc029c02617d.mp3\n",
      "processed/willie-wagtail/8172248b-c4fd-42f7-ba99-08e0b4bbdba6.mp3\n",
      "processed/willie-wagtail/8b8966e8-160c-4368-8fbc-8de7995437bb.mp3\n",
      "processed/willie-wagtail/abab3331-7e85-460d-8ffa-77b771b40dc8.mp3\n",
      "processed/willie-wagtail/af674823-bb94-461f-8a5b-1431cd1b992a.mp3\n",
      "processed/willie-wagtail/c6ba1940-c034-4e8a-8c9b-982c68c1fa2d.mp3\n",
      "processed/willie-wagtail/ca6cafb4-39f5-4a3c-8eec-2a27dd4f334f-long.mp3\n",
      "processed/willie-wagtail/ca6cafb4-39f5-4a3c-8eec-2a27dd4f334f.mp3\n",
      "processed/willie-wagtail/e1207b26-da74-4c54-bc3f-2ee021d33184.mp3\n",
      "processed/willie-wagtail/e51f336f-e3a5-476d-87ed-cd73ee68e81e-long.mp3\n",
      "processed/willie-wagtail/eb3e101c-4f12-4057-880d-dad68da259a5.mp3\n",
      "processed/willie-wagtail/efde913a-b957-4b69-8d68-8735f5131c78.mp3\n",
      "raw/\n",
      "raw/eastern-whipbird/\n",
      "raw/eastern-whipbird/17f48cb9-a0a6-4768-828a-85a49534e5e2.mpg\n",
      "raw/eastern-whipbird/1d4bed34-4f47-4f8f-903f-ee1f88f28efa.mpg\n",
      "raw/eastern-whipbird/6316ecca-4b96-4477-8da7-e764429fa389.mpg\n",
      "raw/eastern-whipbird/aad78fc7-f674-4d44-af53-d3d25083420e.mpg\n",
      "raw/eastern-whipbird/b038c5b6-934c-4405-bcf5-a1f84cd199d9.mpg\n",
      "raw/eastern-whipbird/b1a5da01-8a74-4abb-8cce-c68c31dc0a60.mp4\n",
      "raw/eastern-whipbird/b551a17d-28d5-4ee1-b5c1-19caa98ae514.mpg\n",
      "raw/eastern-whipbird/bf8d74b6-9763-4978-af5e-dda940d8f5f1.mpg\n",
      "raw/eastern-whipbird/dc6e3770-220e-43fe-9e84-dba5aa9b9770.mpg\n",
      "raw/eastern-whipbird/e409f4db-c60c-4d94-afbe-e7c3ba8db79c.mp4\n",
      "raw/kookaburra/\n",
      "raw/kookaburra/0f3df10f-be4a-49b0-b70a-54b174c7e015.mp4\n",
      "raw/kookaburra/718efcf9-5cd0-4aff-b7c4-5b6515b8f5be.mpg\n",
      "raw/kookaburra/7cbc1cd6-9114-4cc7-961b-7e0f336ad24d.mp4\n",
      "raw/kookaburra/7db20dc9-6e26-4c93-b845-6fc254c39148.mp4\n",
      "raw/kookaburra/8d682591-80aa-4aa9-b1c8-d5fcfd7481ba.mpg\n",
      "raw/kookaburra/8f490b16-0f2f-4be8-89ad-13f448207102.mp4\n",
      "raw/kookaburra/a68e0470-cc9e-423e-8b5a-fea127c42709.mpg\n",
      "raw/kookaburra/a98f8678-6e11-4de7-bf63-a97a62a948ae.mp4\n",
      "raw/kookaburra/c6f66679-9ae5-44bb-ab63-15cbe7c8b1ae.mp4\n",
      "raw/kookaburra/ca3617fb-b5a3-4b4d-bf41-f1a2c0d749cd.mpg\n",
      "raw/kookaburra/d97ed3dc-f418-4451-907d-5c1a69fc40a5.wav\n",
      "raw/kookaburra/ed754515-754d-4035-9826-afc0eab80096.mp4\n",
      "raw/kookaburra/eed8fc1e-f208-4fcf-b4d4-00a76d1be3ba.wav\n",
      "raw/superb-lyrebird/\n",
      "raw/superb-lyrebird/02031ce5-e789-4909-8738-37cd80736ca0.mp4\n",
      "raw/superb-lyrebird/1c0c0f8b-6b45-4f51-bf18-e8b061863208.mp4\n",
      "raw/superb-lyrebird/23205f05-b5d1-410d-9403-d7da7dd07c79.mp4\n",
      "raw/superb-lyrebird/4d4a6d53-d35e-4a8e-a8eb-bfd1b24f8147.mpg\n",
      "raw/superb-lyrebird/60b6f8bb-0ed1-4caa-9e50-95e76d9b3b30.mpg\n",
      "raw/superb-lyrebird/77c0add4-61bb-4541-bb16-480b71a7701b.mpg\n",
      "raw/superb-lyrebird/7d8d5fb2-2b5e-464e-bee1-257459d780bf.wav\n",
      "raw/superb-lyrebird/8f24a0d6-c7d8-483b-84cd-8532fa61bc79.mpg\n",
      "raw/superb-lyrebird/ad42345c-e581-472c-bb79-4390360cf5fd.mp4\n",
      "raw/superb-lyrebird/b8f32e33-7cf7-4cda-aadd-cf7cb29f027b.mp4\n",
      "raw/superb-lyrebird/ce351522-cbed-47f9-a017-72a0bf5f5ed2.mp4\n",
      "raw/willie-wagtail/\n",
      "raw/willie-wagtail/0b80fc59-0f18-4685-9ca5-962cf1114d63.mpg\n",
      "raw/willie-wagtail/41a2c8db-a93d-45c9-8b53-ea43e50ee591.wav\n",
      "raw/willie-wagtail/5d5a1a95-59ef-4041-98dd-b4e9324396e3.mp4\n",
      "raw/willie-wagtail/72fcdd4c-29f0-41f9-a32a-6f30f4a4bbcc.mpg\n",
      "raw/willie-wagtail/7ecd1d43-b55d-4299-811d-dc029c02617d.mpg\n",
      "raw/willie-wagtail/8172248b-c4fd-42f7-ba99-08e0b4bbdba6.mpg\n",
      "raw/willie-wagtail/8b8966e8-160c-4368-8fbc-8de7995437bb.mpg\n",
      "raw/willie-wagtail/abab3331-7e85-460d-8ffa-77b771b40dc8.mpg\n",
      "raw/willie-wagtail/af674823-bb94-461f-8a5b-1431cd1b992a.mpg\n",
      "raw/willie-wagtail/c163b9c2-3619-4f20-aa35-ce6917d4b2fb.mpg\n",
      "raw/willie-wagtail/c6ba1940-c034-4e8a-8c9b-982c68c1fa2d.mpg\n",
      "raw/willie-wagtail/ca6cafb4-39f5-4a3c-8eec-2a27dd4f334f.mpg\n",
      "raw/willie-wagtail/d1dcdd92-b6e4-4a3c-8ab3-31b220afc21c.mpg\n",
      "raw/willie-wagtail/e1207b26-da74-4c54-bc3f-2ee021d33184.mpg\n",
      "raw/willie-wagtail/e51f336f-e3a5-476d-87ed-cd73ee68e81e.mpg\n",
      "raw/willie-wagtail/e6c932f7-9d13-460d-9d70-b76fb4256c7f.mp4\n",
      "raw/willie-wagtail/eb3e101c-4f12-4057-880d-dad68da259a5.mpg\n",
      "raw/willie-wagtail/efde913a-b957-4b69-8d68-8735f5131c78.mpg\n",
      "raw/willie-wagtail/ffaa2e32-7ce9-4644-9363-d7dc82889f6c.mpg\n",
      "spectrogram/\n",
      "training-data/\n"
     ]
    }
   ],
   "source": [
    "#emma \n",
    "#this downloads the resources \n",
    "s3r = boto3.resource('s3')\n",
    "\n",
    "# Select Your S3 Bucket\n",
    "bucket = s3r.Bucket('audio-classifier-data')\n",
    "\n",
    "# Iterate All Objects in Your S3 Bucket Over the for Loop\n",
    "for s3_object in bucket.objects.all():\n",
    "    path, filename = os.path.split(s3_object.key)\n",
    "    print(path +\"/\"+filename)\n",
    "    if not os.path.isdir(path): \n",
    "        os.mkdir(path)\n",
    "    if filename:\n",
    "        bucket.download_file(s3_object.key, path+\"/\"+filename)\n",
    "\n",
    "        "
   ]
  },
  {
   "cell_type": "code",
   "execution_count": 86,
   "metadata": {},
   "outputs": [],
   "source": [
    "def mono_to_stereo(file_path):\n",
    "    \n",
    "    left_channel = AudioSegment.from_wav(file_path)\n",
    "    right_channel = AudioSegment.from_wav(file_path)\n",
    "\n",
    "    stereo_sound = AudioSegment.from_mono_audiosegments(left_channel, right_channel)\n",
    "    file_no_ext = os.path.splitext(file_path)[0]\n",
    "    stereo_sound.export(file_no_ext+'_stereo.wav', format=\"wav\")\n",
    "    return file_no_ext+'_stereo.wav' \n",
    "\n",
    "def slice_audio(filename, category):\n",
    "    base = os.path.basename(filename)\n",
    "    input_file = os.path.splitext(base)[0]\n",
    "    extension = os.path.splitext(base)[1]\n",
    "    audio = AudioSegment.from_file(filename)\n",
    "    length = audio.duration_seconds\n",
    "    if not os.path.isdir('clips/'+category): \n",
    "        os.mkdir('clips/'+category)\n",
    "    for i in range(0, (int(length)-3)*1000, 500):\n",
    "        start = i\n",
    "        end = i+3000\n",
    "        filename1 = input_file+'_'+str(start)+'_'+str(end)+extension\n",
    "        #print(input_file)\n",
    "        #print(filename1)\n",
    "        newAudio = AudioSegment.from_wav(filename)\n",
    "        newAudio = newAudio[start:end]\n",
    "        newAudio.export('clips/'+category+'/'+filename1, format=\"wav\")\n",
    "        \n",
    "def process_audio(file_path, category):\n",
    "    sound = AudioSegment.from_file(file_path)\n",
    "    channel_count = sound.channels\n",
    "    if channel_count == 1: \n",
    "        file_path = mono_to_stereo(file_path)\n",
    "    slice_audio(file_path, category)\n"
   ]
  },
  {
   "cell_type": "code",
   "execution_count": 87,
   "metadata": {},
   "outputs": [],
   "source": [
    "import os\n",
    "input_dir = 'processed/eastern-whipbird'\n",
    "\n",
    "for subdir, dirs, files in os.walk(input_dir):\n",
    "    for file in files:\n",
    "        file_path = os.path.join(subdir, file)\n",
    "        process_audio(file_path, 'curlew')\n",
    "        "
   ]
  },
  {
   "cell_type": "code",
   "execution_count": 94,
   "metadata": {},
   "outputs": [],
   "source": [
    "#send back to s3 \n",
    "\n",
    "#from /clips send everything back up (currently just 'curlew' which is actually 'eastern-whipbird' but I forgot to change the naem)\n",
    "path = 'clips'\n",
    "for subdir, dirs, files in os.walk(path):\n",
    "    for file in files:\n",
    "        full_path = os.path.join(subdir, file)\n",
    "        with open(full_path, 'rb') as data:\n",
    "            bucket.put_object(Key=full_path, Body=data)"
   ]
  },
  {
   "cell_type": "code",
   "execution_count": null,
   "metadata": {},
   "outputs": [],
   "source": []
  }
 ],
 "metadata": {
  "instance_type": "ml.t3.medium",
  "kernelspec": {
   "display_name": "Python 3 (Data Science)",
   "language": "python",
   "name": "python3__SAGEMAKER_INTERNAL__arn:aws:sagemaker:ap-southeast-2:452832661640:image/datascience-1.0"
  },
  "language_info": {
   "codemirror_mode": {
    "name": "ipython",
    "version": 3
   },
   "file_extension": ".py",
   "mimetype": "text/x-python",
   "name": "python",
   "nbconvert_exporter": "python",
   "pygments_lexer": "ipython3",
   "version": "3.7.10"
  }
 },
 "nbformat": 4,
 "nbformat_minor": 4
}
