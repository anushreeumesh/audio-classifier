{
 "cells": [
  {
   "cell_type": "markdown",
   "metadata": {},
   "source": [
    "# Create LST files\n",
    "## These will be the input to our image classifier algorithm"
   ]
  },
  {
   "cell_type": "markdown",
   "metadata": {},
   "source": [
    "### Change directory (if necessary)"
   ]
  },
  {
   "cell_type": "code",
   "execution_count": 22,
   "metadata": {},
   "outputs": [],
   "source": [
    "import os\n",
    "import boto3\n",
    "\n",
    "s3r = boto3.resource('s3')\n",
    "bucket = s3r.Bucket('audio-classifier-data')"
   ]
  },
  {
   "cell_type": "code",
   "execution_count": 16,
   "metadata": {},
   "outputs": [],
   "source": [
    "if not os.path.isdir('../data/mel-spectrogram/train_lst'): \n",
    "    os.mkdir('../data/mel-spectrogram/train_lst')"
   ]
  },
  {
   "cell_type": "code",
   "execution_count": 17,
   "metadata": {},
   "outputs": [],
   "source": [
    "if not os.path.isdir('../data/mel-spectrogram/validate_lst'): \n",
    "    os.mkdir('../data/mel-spectrogram/validate_lst')"
   ]
  },
  {
   "cell_type": "markdown",
   "metadata": {},
   "source": [
    "### Save the following code as script files - create-lst-train.sh and create-lst-val.sh"
   ]
  },
  {
   "cell_type": "markdown",
   "metadata": {},
   "source": [
    "#!/bin/bash\n",
    "A_file_path=\"../data/mel-spectrogram/train/eastern-whipbird\"\n",
    "A_identifier=\"0\"\n",
    "B_file_path=\"../data/mel-spectrogram/train/kookaburra\"\n",
    "B_identifier=\"1\"\n",
    "C_file_path=\"../data/mel-spectrogram/train/willie-wagtail\"\n",
    "C_identifier=\"2\"\n",
    "\n",
    "\n",
    "output_file_name=\"../data/mel-spectrogram/train_lst/bird-audio-train.lst\"\n",
    "\n",
    "# output identifier and file name then append to same file, make the index last\n",
    "\n",
    "declare -a array\n",
    "\n",
    "A_file_list=$(find $A_file_path -type f | rev | cut -d'/' -f-2 | rev | sort -n)\n",
    "\n",
    "for A_file_name in $A_file_list;\n",
    "do\n",
    " array+=(\"$A_identifier $A_file_name\")\n",
    "done\n",
    "\n",
    "B_file_list=$(find $B_file_path -type f | rev | cut -d'/' -f-2 | rev | sort -n)\n",
    "\n",
    "for B_file_name in $B_file_list;\n",
    "do\n",
    " array+=(\"$B_identifier $B_file_name\")\n",
    "done\n",
    "\n",
    "C_file_list=$(find $C_file_path -type f | rev | cut -d'/' -f-2 | rev | sort -n)\n",
    "\n",
    "for C_file_name in $C_file_list;\n",
    "do\n",
    " array+=(\"$C_identifier $C_file_name\")\n",
    "done\n",
    "\n",
    "## add an index key at the beginning over every element of output and write to newfile\n",
    "\n",
    "len=${#array[@]}\n",
    "i=0\n",
    "while [ $i -lt $len ]; do\n",
    "    echo \"$i ${array[$i]}\"\n",
    "    let i++\n",
    "done | tr [:blank:] \\\\t > $output_file_name"
   ]
  },
  {
   "cell_type": "markdown",
   "metadata": {},
   "source": [
    "### Give executable permissions to the script files"
   ]
  },
  {
   "cell_type": "code",
   "execution_count": 18,
   "metadata": {},
   "outputs": [],
   "source": [
    "!chmod 777 create-lst-train.sh\n",
    "!chmod 777 create-lst-val.sh"
   ]
  },
  {
   "cell_type": "markdown",
   "metadata": {},
   "source": [
    "### Run the script files to get LST files"
   ]
  },
  {
   "cell_type": "code",
   "execution_count": 19,
   "metadata": {},
   "outputs": [],
   "source": [
    "!./create-lst-train.sh\n",
    "!./create-lst-val.sh"
   ]
  },
  {
   "cell_type": "markdown",
   "metadata": {},
   "source": [
    "### Count how many records in LST files"
   ]
  },
  {
   "cell_type": "code",
   "execution_count": 20,
   "metadata": {},
   "outputs": [
    {
     "name": "stdout",
     "output_type": "stream",
     "text": [
      "578 ../data/mel-spectrogram/train_lst/bird-audio-train.lst\n"
     ]
    }
   ],
   "source": [
    "!wc -l ../data/mel-spectrogram/train_lst/bird-audio-train.lst"
   ]
  },
  {
   "cell_type": "code",
   "execution_count": 21,
   "metadata": {},
   "outputs": [
    {
     "name": "stdout",
     "output_type": "stream",
     "text": [
      "144 ../data/mel-spectrogram/validate_lst/bird-audio-validate.lst\n"
     ]
    }
   ],
   "source": [
    "!wc -l ../data/mel-spectrogram/validate_lst/bird-audio-validate.lst"
   ]
  },
  {
   "cell_type": "markdown",
   "metadata": {},
   "source": [
    "### Upload the LST files to S3"
   ]
  },
  {
   "cell_type": "code",
   "execution_count": 23,
   "metadata": {},
   "outputs": [],
   "source": [
    "path = '../data/mel-spectrogram/train_lst'\n",
    "for subdir, dirs, files in os.walk(path):\n",
    "    for file in files:\n",
    "        full_path = os.path.join(subdir, file)\n",
    "        s3_path = '/'.join(full_path.split('/')[2:])\n",
    "        with open(full_path, 'rb') as data:\n",
    "            bucket.put_object(Key=s3_path, Body=data)"
   ]
  },
  {
   "cell_type": "code",
   "execution_count": 24,
   "metadata": {},
   "outputs": [],
   "source": [
    "path = '../data/mel-spectrogram/validate_lst'\n",
    "for subdir, dirs, files in os.walk(path):\n",
    "    for file in files:\n",
    "        full_path = os.path.join(subdir, file)\n",
    "        s3_path = '/'.join(full_path.split('/')[2:])\n",
    "        with open(full_path, 'rb') as data:\n",
    "            bucket.put_object(Key=s3_path, Body=data)"
   ]
  }
 ],
 "metadata": {
  "instance_type": "ml.t3.medium",
  "kernelspec": {
   "display_name": "Python 3 (MXNet 1.6 Python 3.6 CPU Optimized)",
   "language": "python",
   "name": "python3__SAGEMAKER_INTERNAL__arn:aws:sagemaker:ap-southeast-2:452832661640:image/mxnet-1.6-cpu-py36"
  },
  "language_info": {
   "codemirror_mode": {
    "name": "ipython",
    "version": 3
   },
   "file_extension": ".py",
   "mimetype": "text/x-python",
   "name": "python",
   "nbconvert_exporter": "python",
   "pygments_lexer": "ipython3",
   "version": "3.6.13"
  }
 },
 "nbformat": 4,
 "nbformat_minor": 5
}
