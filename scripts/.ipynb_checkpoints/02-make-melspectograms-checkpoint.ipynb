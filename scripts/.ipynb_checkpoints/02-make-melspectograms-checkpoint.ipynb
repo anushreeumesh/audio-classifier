{
 "cells": [
  {
   "cell_type": "code",
   "execution_count": 3,
   "metadata": {
    "collapsed": true,
    "jupyter": {
     "outputs_hidden": true
    }
   },
   "outputs": [
    {
     "name": "stdout",
     "output_type": "stream",
     "text": [
      "Requirement already satisfied: librosa in /opt/conda/lib/python3.7/site-packages (0.9.2)\n",
      "Requirement already satisfied: audioread>=2.1.9 in /opt/conda/lib/python3.7/site-packages (from librosa) (2.1.9)\n",
      "Requirement already satisfied: packaging>=20.0 in /opt/conda/lib/python3.7/site-packages (from librosa) (20.1)\n",
      "Requirement already satisfied: scipy>=1.2.0 in /opt/conda/lib/python3.7/site-packages (from librosa) (1.4.1)\n",
      "Requirement already satisfied: numpy>=1.17.0 in /opt/conda/lib/python3.7/site-packages (from librosa) (1.21.6)\n",
      "Requirement already satisfied: decorator>=4.0.10 in /opt/conda/lib/python3.7/site-packages (from librosa) (4.4.1)\n",
      "Requirement already satisfied: soundfile>=0.10.2 in /opt/conda/lib/python3.7/site-packages (from librosa) (0.10.3.post1)\n",
      "Requirement already satisfied: resampy>=0.2.2 in /opt/conda/lib/python3.7/site-packages (from librosa) (0.3.1)\n",
      "Requirement already satisfied: pooch>=1.0 in /opt/conda/lib/python3.7/site-packages (from librosa) (1.6.0)\n",
      "Requirement already satisfied: scikit-learn>=0.19.1 in /opt/conda/lib/python3.7/site-packages (from librosa) (0.22.1)\n",
      "Requirement already satisfied: joblib>=0.14 in /opt/conda/lib/python3.7/site-packages (from librosa) (0.14.1)\n",
      "Requirement already satisfied: numba>=0.45.1 in /opt/conda/lib/python3.7/site-packages (from librosa) (0.55.2)\n",
      "Requirement already satisfied: llvmlite<0.39,>=0.38.0rc1 in /opt/conda/lib/python3.7/site-packages (from numba>=0.45.1->librosa) (0.38.1)\n",
      "Requirement already satisfied: setuptools in /opt/conda/lib/python3.7/site-packages (from numba>=0.45.1->librosa) (59.3.0)\n",
      "Requirement already satisfied: pyparsing>=2.0.2 in /opt/conda/lib/python3.7/site-packages (from packaging>=20.0->librosa) (2.4.6)\n",
      "Requirement already satisfied: six in /opt/conda/lib/python3.7/site-packages (from packaging>=20.0->librosa) (1.14.0)\n",
      "Requirement already satisfied: requests>=2.19.0 in /opt/conda/lib/python3.7/site-packages (from pooch>=1.0->librosa) (2.28.0)\n",
      "Requirement already satisfied: appdirs>=1.3.0 in /opt/conda/lib/python3.7/site-packages (from pooch>=1.0->librosa) (1.4.4)\n",
      "Requirement already satisfied: cffi>=1.0 in /opt/conda/lib/python3.7/site-packages (from soundfile>=0.10.2->librosa) (1.15.0)\n",
      "Requirement already satisfied: pycparser in /opt/conda/lib/python3.7/site-packages (from cffi>=1.0->soundfile>=0.10.2->librosa) (2.19)\n",
      "Requirement already satisfied: charset-normalizer~=2.0.0 in /opt/conda/lib/python3.7/site-packages (from requests>=2.19.0->pooch>=1.0->librosa) (2.0.4)\n",
      "Requirement already satisfied: idna<4,>=2.5 in /opt/conda/lib/python3.7/site-packages (from requests>=2.19.0->pooch>=1.0->librosa) (2.8)\n",
      "Requirement already satisfied: certifi>=2017.4.17 in /opt/conda/lib/python3.7/site-packages (from requests>=2.19.0->pooch>=1.0->librosa) (2022.6.15)\n",
      "Requirement already satisfied: urllib3<1.27,>=1.21.1 in /opt/conda/lib/python3.7/site-packages (from requests>=2.19.0->pooch>=1.0->librosa) (1.26.9)\n",
      "\u001b[33mWARNING: Running pip as the 'root' user can result in broken permissions and conflicting behaviour with the system package manager. It is recommended to use a virtual environment instead: https://pip.pypa.io/warnings/venv\u001b[0m\u001b[33m\n",
      "\u001b[0m\n",
      "\u001b[1m[\u001b[0m\u001b[34;49mnotice\u001b[0m\u001b[1;39;49m]\u001b[0m\u001b[39;49m A new release of pip available: \u001b[0m\u001b[31;49m22.1.2\u001b[0m\u001b[39;49m -> \u001b[0m\u001b[32;49m22.2\u001b[0m\n",
      "\u001b[1m[\u001b[0m\u001b[34;49mnotice\u001b[0m\u001b[1;39;49m]\u001b[0m\u001b[39;49m To update, run: \u001b[0m\u001b[32;49mpip install --upgrade pip\u001b[0m\n"
     ]
    }
   ],
   "source": [
    "!pip install librosa"
   ]
  },
  {
   "cell_type": "code",
   "execution_count": null,
   "metadata": {},
   "outputs": [],
   "source": [
    "!pip install soundfile"
   ]
  },
  {
   "cell_type": "code",
   "execution_count": 2,
   "metadata": {},
   "outputs": [
    {
     "name": "stdout",
     "output_type": "stream",
     "text": [
      "Collecting package metadata (current_repodata.json): done\n",
      "Solving environment: done\n",
      "\n",
      "# All requested packages already installed.\n",
      "\n"
     ]
    }
   ],
   "source": [
    "!conda install -c conda-forge libsndfile -y"
   ]
  },
  {
   "cell_type": "code",
   "execution_count": 16,
   "metadata": {},
   "outputs": [],
   "source": [
    "import os\n",
    "import matplotlib.pyplot as plt\n",
    "import librosa\n",
    "import librosa.display\n",
    "import warnings\n",
    "import numpy as np"
   ]
  },
  {
   "cell_type": "code",
   "execution_count": 5,
   "metadata": {},
   "outputs": [],
   "source": [
    "warnings.simplefilter(action='ignore', category=UserWarning)\n",
    "warnings.simplefilter(action='ignore', category=FutureWarning)"
   ]
  },
  {
   "cell_type": "markdown",
   "metadata": {},
   "source": [
    "### Function Definitions: Make Spectrograms and Mel Spectrograms"
   ]
  },
  {
   "cell_type": "code",
   "execution_count": null,
   "metadata": {},
   "outputs": [],
   "source": [
    "def make_spgram(file_path, class_name): \n",
    "    base = os.path.basename(file_path)\n",
    "    #need subfolder too \n",
    "    input_file = os.path.splitext(base)[0]\n",
    "\n",
    "    clip, sample_rate = librosa.load(file_path, sr=None)\n",
    "    n_fft = 1024 # frame length \n",
    "    \n",
    "    hop_length = 512\n",
    "    stft = librosa.stft(clip, n_fft=n_fft, hop_length=hop_length)\n",
    "    stft_magnitude, stft_phase = librosa.magphase(stft)\n",
    "    stft_magnitude_db = librosa.amplitude_to_db(stft_magnitude, ref=np.max)\n",
    "\n",
    "    #plt.figure(figsize=(4, 4))\n",
    "\n",
    "    librosa.display.specshow(stft_magnitude_db, x_axis=None, y_axis=None, \n",
    "                             sr=sample_rate, hop_length=hop_length)\n",
    "\n",
    "    plt.savefig('../ImagesForPreso/'+class_name+'/'+input_file+'.png',bbox_inches='tight',pad_inches=0)\n",
    "    plt.show()\n",
    "    plt.clf()"
   ]
  },
  {
   "cell_type": "code",
   "execution_count": null,
   "metadata": {},
   "outputs": [],
   "source": [
    "def make_melspgram(file_path, species, data_split):\n",
    "    n_mels = 64\n",
    "    base = os.path.basename(file_path)\n",
    "    input_file = os.path.splitext(base)[0]\n",
    "\n",
    "    clip, sample_rate = librosa.load(file_path, sr=None)\n",
    "    n_fft = 1024 # frame length \n",
    "\n",
    "    fmin = 0            \n",
    "    fmax = 22050 # sample_rate/2\n",
    "    hop_length = 512\n",
    "    mel_spec = librosa.feature.melspectrogram(clip, n_fft=n_fft, hop_length=hop_length,\n",
    "                                              n_mels=n_mels, sr=sample_rate, power=1.0,\n",
    "                                              fmin=fmin, fmax=fmax)\n",
    "    mel_spec_db = librosa.amplitude_to_db(mel_spec, ref=np.max)\n",
    "    plt.figure(figsize=(4, 4))\n",
    "    librosa.display.specshow(mel_spec_db, x_axis=None,  y_axis=None, \n",
    "                             sr=sample_rate, hop_length=hop_length, \n",
    "                             fmin=fmin, fmax=fmax)    \n",
    "    plt.savefig('../data/mel-spectrogram/'+data_split+'/'+species+ '/'+input_file+'.png',bbox_inches='tight',pad_inches=0)\n",
    "    #plt.show()\n",
    "    plt.close()"
   ]
  },
  {
   "cell_type": "markdown",
   "metadata": {},
   "source": [
    "### Make Mel Spectrograms of 3 second audio clips"
   ]
  },
  {
   "cell_type": "code",
   "execution_count": null,
   "metadata": {},
   "outputs": [],
   "source": [
    "bird_species = ['eastern-whipbird', 'kookaburra', 'willie-wagtail']\n",
    "rootdir = '../data/clips/'\n",
    "\n",
    "count = 0\n",
    "for i in bird_species: \n",
    "    input_dir = rootdir+i\n",
    "    if not os.path.isdir('../data/mel-spectrogram/validate'):\n",
    "        os.makedirs('../data/mel-spectrogram/validate')\n",
    "    if not os.path.isdir('../data/mel-spectrogram/train'):\n",
    "        os.makedirs('../data/mel-spectrogram/train')\n",
    "\n",
    "    for subdir, dirs, files in os.walk(input_dir):\n",
    "        for file in files:\n",
    "            file_path = os.path.join(subdir, file)\n",
    "            count += 1\n",
    "            if count%5 == 0:\n",
    "                if not os.path.isdir('../data/mel-spectrogram/validate/'+i):\n",
    "                    os.makedirs('../data/mel-spectrogram/validate/'+i)\n",
    "                make_melspgram(file_path, i, 'validate')\n",
    "            elif count%5 != 0:\n",
    "                if not os.path.isdir('../data/mel-spectrogram/train/'+i):\n",
    "                    os.makedirs('../data/mel-spectrogram/train/'+i)\n",
    "                make_melspgram(file_path, i, 'train')"
   ]
  },
  {
   "cell_type": "markdown",
   "metadata": {},
   "source": [
    "### Upload Training Data to S3"
   ]
  },
  {
   "cell_type": "code",
   "execution_count": null,
   "metadata": {},
   "outputs": [],
   "source": [
    "import boto3\n",
    "import os\n",
    "s3r = boto3.resource('s3')\n",
    "bucket = s3r.Bucket('audio-classifier-data')\n",
    "\n",
    "path = '../data/mel-spectrogram/train'\n",
    "for subdir, dirs, files in os.walk(path):\n",
    "    for file in files:\n",
    "        full_path = os.path.join(subdir, file)\n",
    "        s3_path = '/'.join(full_path.split('/')[2:])\n",
    "        with open(full_path, 'rb') as data:\n",
    "            bucket.put_object(Key=s3_path, Body=data)"
   ]
  },
  {
   "cell_type": "markdown",
   "metadata": {},
   "source": [
    "### Upload Validation Data to S3"
   ]
  },
  {
   "cell_type": "code",
   "execution_count": null,
   "metadata": {},
   "outputs": [],
   "source": [
    "path = '../data/mel-spectrogram/validate'\n",
    "for subdir, dirs, files in os.walk(path):\n",
    "    for file in files:\n",
    "        full_path = os.path.join(subdir, file)\n",
    "        s3_path = '/'.join(full_path.split('/')[2:])\n",
    "        with open(full_path, 'rb') as data:\n",
    "            bucket.put_object(Key=s3_path, Body=data)"
   ]
  },
  {
   "cell_type": "markdown",
   "metadata": {},
   "source": [
    "## Create Mel Spectrograms for the test data set "
   ]
  },
  {
   "cell_type": "code",
   "execution_count": 6,
   "metadata": {},
   "outputs": [],
   "source": [
    "def make_test_melspgram(file_path, species):\n",
    "    n_mels = 64\n",
    "    base = os.path.basename(file_path)\n",
    "    input_file = os.path.splitext(base)[0]\n",
    "\n",
    "    clip, sample_rate = librosa.load(file_path, sr=None)\n",
    "    n_fft = 1024 # frame length \n",
    "\n",
    "    fmin = 0            \n",
    "    fmax = 22050 # sample_rate/2\n",
    "    hop_length = 512\n",
    "    mel_spec = librosa.feature.melspectrogram(clip, n_fft=n_fft, hop_length=hop_length,\n",
    "                                              n_mels=n_mels, sr=sample_rate, power=1.0,\n",
    "                                              fmin=fmin, fmax=fmax)\n",
    "    mel_spec_db = librosa.amplitude_to_db(mel_spec, ref=np.max)\n",
    "    plt.figure(figsize=(4, 4))\n",
    "    librosa.display.specshow(mel_spec_db, x_axis=None,  y_axis=None, \n",
    "                             sr=sample_rate, hop_length=hop_length, \n",
    "                             fmin=fmin, fmax=fmax)    \n",
    "    plt.savefig('../data/test/mel-spectrogram/'+species+ '/'+input_file+'.png',bbox_inches='tight',pad_inches=0)\n",
    "    #plt.show()\n",
    "    plt.close()"
   ]
  },
  {
   "cell_type": "code",
   "execution_count": 7,
   "metadata": {},
   "outputs": [],
   "source": [
    "bird_species = ['eastern-whipbird', 'kookaburra', 'willie-wagtail']\n",
    "rootdir = '../data/test/clips/'\n",
    "\n",
    "for i in bird_species: \n",
    "    input_dir = rootdir\n",
    "    if not os.path.isdir('../data/test/mel-spectrogram'):\n",
    "        os.makedirs('../data/test/mel-spectrogram')\n",
    "    if not os.path.isdir('../data/test/mel-spectrogram/'+i):\n",
    "        os.makedirs('../data/test/mel-spectrogram/'+i)\n",
    "    for subdir, dirs, files in os.walk(input_dir):\n",
    "        for file in files:\n",
    "            file_path = os.path.join(subdir, file)\n",
    "            make_test_melspgram(file_path, i)"
   ]
  },
  {
   "cell_type": "code",
   "execution_count": 18,
   "metadata": {},
   "outputs": [
    {
     "ename": "AttributeError",
     "evalue": "module 'librosa.display' has no attribute 'waveplot'",
     "output_type": "error",
     "traceback": [
      "\u001b[0;31m---------------------------------------------------------------------------\u001b[0m",
      "\u001b[0;31mAttributeError\u001b[0m                            Traceback (most recent call last)",
      "\u001b[0;32m<ipython-input-18-21cf74e2bee8>\u001b[0m in \u001b[0;36m<module>\u001b[0;34m\u001b[0m\n\u001b[1;32m      4\u001b[0m \u001b[0;34m\u001b[0m\u001b[0m\n\u001b[1;32m      5\u001b[0m \u001b[0mplt\u001b[0m\u001b[0;34m.\u001b[0m\u001b[0mfigure\u001b[0m\u001b[0;34m(\u001b[0m\u001b[0mfigsize\u001b[0m\u001b[0;34m=\u001b[0m\u001b[0;34m(\u001b[0m\u001b[0;36m12\u001b[0m\u001b[0;34m,\u001b[0m \u001b[0;36m4\u001b[0m\u001b[0;34m)\u001b[0m\u001b[0;34m)\u001b[0m\u001b[0;34m\u001b[0m\u001b[0;34m\u001b[0m\u001b[0m\n\u001b[0;32m----> 6\u001b[0;31m \u001b[0mlibrosa\u001b[0m\u001b[0;34m.\u001b[0m\u001b[0mdisplay\u001b[0m\u001b[0;34m.\u001b[0m\u001b[0mwaveplot\u001b[0m\u001b[0;34m(\u001b[0m\u001b[0mdata\u001b[0m\u001b[0;34m,\u001b[0m \u001b[0msr\u001b[0m\u001b[0;34m=\u001b[0m\u001b[0msampling_rate\u001b[0m\u001b[0;34m)\u001b[0m\u001b[0;34m\u001b[0m\u001b[0;34m\u001b[0m\u001b[0m\n\u001b[0m\u001b[1;32m      7\u001b[0m \u001b[0mplt\u001b[0m\u001b[0;34m.\u001b[0m\u001b[0mshow\u001b[0m\u001b[0;34m(\u001b[0m\u001b[0;34m)\u001b[0m\u001b[0;34m\u001b[0m\u001b[0;34m\u001b[0m\u001b[0m\n",
      "\u001b[0;31mAttributeError\u001b[0m: module 'librosa.display' has no attribute 'waveplot'"
     ]
    }
   ],
   "source": [
    "import librosa.display\n",
    "\n",
    "data, sampling_rate = librosa.load('../data/demo/Summit-DemoAudio.mp3')\n",
    "\n",
    "plt.figure(figsize=(12, 4))\n",
    "librosa.display.waveplot(data, sr=sampling_rate)\n",
    "plt.show()\n"
   ]
  },
  {
   "cell_type": "code",
   "execution_count": 19,
   "metadata": {},
   "outputs": [],
   "source": [
    "import librosa.display\n"
   ]
  },
  {
   "cell_type": "code",
   "execution_count": 23,
   "metadata": {},
   "outputs": [],
   "source": [
    "librosa.display.waveshow(data, sr=sampling_rate)\n",
    "plt.savefig('../data/demo/audio_visual.png')\n"
   ]
  },
  {
   "cell_type": "code",
   "execution_count": 32,
   "metadata": {},
   "outputs": [],
   "source": [
    "def make_spgram_amp(file_path, class_name): \n",
    "    base = os.path.basename(file_path)\n",
    "    #need subfolder too \n",
    "    input_file = os.path.splitext(base)[0]\n",
    "\n",
    "    clip, sample_rate = librosa.load(file_path, sr=None)\n",
    "    n_fft = 1024 # frame length \n",
    "    \n",
    "    hop_length = 512\n",
    "    stft = librosa.stft(clip, n_fft=n_fft, hop_length=hop_length)\n",
    "    stft_magnitude, stft_phase = librosa.magphase(stft)\n",
    "    #stft_magnitude_db = librosa.amplitude_to_db(stft_magnitude, ref=np.max)\n",
    "\n",
    "    #plt.figure(figsize=(4, 4))\n",
    "\n",
    "    librosa.display.specshow(stft_magnitude, x_axis=None, y_axis=None, \n",
    "                             sr=sample_rate, hop_length=hop_length)\n",
    "\n",
    "    plt.savefig('../data/demo/'+class_name+'/'+input_file+'.png',bbox_inches='tight',pad_inches=0)\n",
    "    plt.show()\n",
    "    plt.clf()"
   ]
  },
  {
   "cell_type": "code",
   "execution_count": 36,
   "metadata": {},
   "outputs": [
    {
     "data": {
      "image/png": "[encoded data removed]",
      "text/plain": [
       "<Figure size 640x480 with 1 Axes>"
      ]
     },
     "metadata": {},
     "output_type": "display_data"
    }
   ],
   "source": [
    "make_spgram_amp(\"../data/clips/eastern-whipbird/aad78fc7-f674-4d44-af53-d3d25083420e_2000_5000.wav\", 'eastern_whipbird')"
   ]
  },
  {
   "cell_type": "code",
   "execution_count": 38,
   "metadata": {},
   "outputs": [],
   "source": [
    "def make_melspgram_amp(file_path, species):\n",
    "    n_mels = 64\n",
    "    base = os.path.basename(file_path)\n",
    "    input_file = os.path.splitext(base)[0]\n",
    "\n",
    "    clip, sample_rate = librosa.load(file_path, sr=None)\n",
    "    n_fft = 1024 # frame length \n",
    "\n",
    "    fmin = 0            \n",
    "    fmax = 22050 # sample_rate/2\n",
    "    hop_length = 512\n",
    "    mel_spec = librosa.feature.melspectrogram(clip, n_fft=n_fft, hop_length=hop_length,\n",
    "                                              n_mels=n_mels, sr=sample_rate, power=1.0,\n",
    "                                              fmin=fmin, fmax=fmax)\n",
    "    #mel_spec_db = librosa.amplitude_to_db(mel_spec, ref=np.max)\n",
    "    plt.figure(figsize=(4, 4))\n",
    "    librosa.display.specshow(mel_spec, x_axis=None,  y_axis=None, \n",
    "                             sr=sample_rate, hop_length=hop_length, \n",
    "                             fmin=fmin, fmax=fmax)    \n",
    "    plt.savefig('../data/demo/'+species+ '/'+input_file+'.png',bbox_inches='tight',pad_inches=0)\n",
    "    #plt.show()\n",
    "    plt.close()"
   ]
  },
  {
   "cell_type": "code",
   "execution_count": 39,
   "metadata": {},
   "outputs": [],
   "source": [
    "make_melspgram_amp(\"../data/clips/eastern-whipbird/aad78fc7-f674-4d44-af53-d3d25083420e_2000_5000.wav\", 'eastern_whipbird')"
   ]
  },
  {
   "cell_type": "code",
   "execution_count": 42,
   "metadata": {},
   "outputs": [],
   "source": [
    "make_test_melspgram(\"../data/clips/eastern-whipbird/aad78fc7-f674-4d44-af53-d3d25083420e_2000_5000.wav\", 'eastern_whipbird')"
   ]
  },
  {
   "cell_type": "code",
   "execution_count": 41,
   "metadata": {},
   "outputs": [],
   "source": [
    "def make_test_melspgram(file_path, species):\n",
    "    n_mels = 64\n",
    "    base = os.path.basename(file_path)\n",
    "    input_file = os.path.splitext(base)[0]\n",
    "\n",
    "    clip, sample_rate = librosa.load(file_path, sr=None)\n",
    "    n_fft = 1024 # frame length \n",
    "\n",
    "    fmin = 0            \n",
    "    fmax = 22050 # sample_rate/2\n",
    "    hop_length = 512\n",
    "    mel_spec = librosa.feature.melspectrogram(clip, n_fft=n_fft, hop_length=hop_length,\n",
    "                                              n_mels=n_mels, sr=sample_rate, power=1.0,\n",
    "                                              fmin=fmin, fmax=fmax)\n",
    "    mel_spec_db = librosa.amplitude_to_db(mel_spec, ref=np.max)\n",
    "    plt.figure(figsize=(4, 4))\n",
    "    librosa.display.specshow(mel_spec_db, x_axis=None,  y_axis=None, \n",
    "                             sr=sample_rate, hop_length=hop_length, \n",
    "                             fmin=fmin, fmax=fmax)    \n",
    "    plt.savefig('../data/demo/'+species+ '/'+input_file+'.png',bbox_inches='tight',pad_inches=0)\n",
    "    #plt.show()\n",
    "    plt.close()"
   ]
  },
  {
   "cell_type": "code",
   "execution_count": null,
   "metadata": {},
   "outputs": [],
   "source": []
  }
 ],
 "metadata": {
  "instance_type": "ml.t3.medium",
  "kernelspec": {
   "display_name": "Python 3 (Data Science)",
   "language": "python",
   "name": "python3__SAGEMAKER_INTERNAL__arn:aws:sagemaker:ap-southeast-2:452832661640:image/datascience-1.0"
  },
  "language_info": {
   "codemirror_mode": {
    "name": "ipython",
    "version": 3
   },
   "file_extension": ".py",
   "mimetype": "text/x-python",
   "name": "python",
   "nbconvert_exporter": "python",
   "pygments_lexer": "ipython3",
   "version": "3.7.10"
  }
 },
 "nbformat": 4,
 "nbformat_minor": 4
}
